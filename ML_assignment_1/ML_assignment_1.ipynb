{
 "cells": [
  {
   "cell_type": "markdown",
   "id": "161ee3e9-6c64-4a5f-9a28-883fe0be0efd",
   "metadata": {},
   "source": [
    "# Machine Learning Assignment 1"
   ]
  },
  {
   "cell_type": "code",
   "execution_count": 2,
   "id": "59707c7a-a20e-464e-b6ab-9c3127c2c601",
   "metadata": {},
   "outputs": [],
   "source": [
    "import numpy as np"
   ]
  },
  {
   "cell_type": "code",
   "execution_count": 3,
   "id": "bb3b6f4d-6613-4555-ae2b-aee1c978b399",
   "metadata": {},
   "outputs": [
    {
     "name": "stdout",
     "output_type": "stream",
     "text": [
      "[ 1  2  3  4  5  6  7  8  9 10 11 12 13 14 15 16 17 18 19 20 21 22 23 24\n",
      " 25 26 27 28 29 30 31 32 33 34 35 36 37 38 39 40 41 42 43 44 45]\n"
     ]
    }
   ],
   "source": [
    "# 3.1 1)\n",
    "a = np.arange(1, 46)\n",
    "print(a)"
   ]
  },
  {
   "cell_type": "code",
   "execution_count": 37,
   "id": "4368bdd9-b182-4100-bc2b-9eb4a8aa5931",
   "metadata": {},
   "outputs": [
    {
     "name": "stdout",
     "output_type": "stream",
     "text": [
      "lotto =  [70 30 78 72 11 49]\n"
     ]
    }
   ],
   "source": [
    "# 3.1 2)\n",
    "np.random.seed(85)\n",
    "lotto = np.arange(1, 86)\n",
    "np.random.shuffle(lotto)\n",
    "print(\"lotto = \", lotto[:6])"
   ]
  },
  {
   "cell_type": "code",
   "execution_count": 38,
   "id": "d674d79b-91aa-476a-9ef6-d717056676c6",
   "metadata": {},
   "outputs": [
    {
     "name": "stdout",
     "output_type": "stream",
     "text": [
      "lotto =  [11 30 49 70 72 78] , 추가 번호 =  57\n"
     ]
    }
   ],
   "source": [
    "# 3.1 3)\n",
    "selected_lotto = lotto[:6]\n",
    "sorted_lotto = np.sort(selected_lotto)\n",
    "print(\"lotto = \", sorted_lotto[:6], \", 추가 번호 = \", lotto[6])"
   ]
  },
  {
   "cell_type": "code",
   "execution_count": 20,
   "id": "dce6b090-8464-4cb2-aaed-96237022c090",
   "metadata": {},
   "outputs": [
    {
     "name": "stdout",
     "output_type": "stream",
     "text": [
      "[[ 0  1  2  3  4]\n",
      " [ 5  6  7  8  9]\n",
      " [10 11 12 13 14]\n",
      " [15 16 17 18 19]\n",
      " [20 21 22 23 24]]\n"
     ]
    }
   ],
   "source": [
    "# 3.1 4)\n",
    "n_arr = np.arange(25).reshape(5,5)\n",
    "print(n_arr)"
   ]
  },
  {
   "cell_type": "code",
   "execution_count": 21,
   "id": "e1f619f8-44d6-4d5b-a389-6e3eaf4c00ad",
   "metadata": {},
   "outputs": [
    {
     "name": "stdout",
     "output_type": "stream",
     "text": [
      "첫 원소:  0\n",
      "마지막 원소 :  24\n"
     ]
    }
   ],
   "source": [
    "# 3.1 5)\n",
    "first_n_arr = n_arr[0,0]\n",
    "last_n_arr = n_arr[4,4]\n",
    "print(\"첫 원소: \", first_n_arr)\n",
    "print(\"마지막 원소 : \", last_n_arr)"
   ]
  },
  {
   "cell_type": "code",
   "execution_count": 22,
   "id": "17648ed5-e794-4e76-9c39-af55462e7d20",
   "metadata": {},
   "outputs": [
    {
     "name": "stdout",
     "output_type": "stream",
     "text": [
      "[[0 1 2 3 4]\n",
      " [5 6 7 8 9]]\n"
     ]
    }
   ],
   "source": [
    "# 3.1 6)\n",
    "slicing1_n_arr = n_arr[0:2]\n",
    "print(slicing1_n_arr)"
   ]
  },
  {
   "cell_type": "code",
   "execution_count": 24,
   "id": "55f26f39-0ffd-487e-9a8b-a3169c9f75da",
   "metadata": {},
   "outputs": [
    {
     "name": "stdout",
     "output_type": "stream",
     "text": [
      "[[ 0  2  4]\n",
      " [ 5  7  9]\n",
      " [10 12 14]\n",
      " [15 17 19]\n",
      " [20 22 24]]\n"
     ]
    }
   ],
   "source": [
    "# 3.1 7)\n",
    "slicing2_n_arr = n_arr[:,::2]\n",
    "print(slicing2_n_arr)"
   ]
  },
  {
   "cell_type": "code",
   "execution_count": 26,
   "id": "e88b83dc-efda-4fb4-8f58-bdd011f94068",
   "metadata": {},
   "outputs": [
    {
     "name": "stdout",
     "output_type": "stream",
     "text": [
      "[[0 1]\n",
      " [2 3]\n",
      " [4 5]\n",
      " [6 7]\n",
      " [8 9]]\n"
     ]
    }
   ],
   "source": [
    "# 3.1 8)\n",
    "slicing3_n_arr = n_arr[0:2].reshape(5,2)\n",
    "print(slicing3_n_arr)"
   ]
  },
  {
   "cell_type": "code",
   "execution_count": 29,
   "id": "807f74ed-eda3-4cb9-8e91-c3aaaf9dea40",
   "metadata": {},
   "outputs": [
    {
     "data": {
      "text/plain": [
       "array([[[-0.72568362, -0.94585816],\n",
       "        [ 0.68946224,  0.08587416]],\n",
       "\n",
       "       [[-0.38202431,  0.16045109],\n",
       "        [ 0.76483333,  1.18209444]]])"
      ]
     },
     "execution_count": 29,
     "metadata": {},
     "output_type": "execute_result"
    }
   ],
   "source": [
    "# 3.2\n",
    "np.random.randn(2,2,2)"
   ]
  },
  {
   "cell_type": "code",
   "execution_count": 5,
   "id": "2a596681-7461-4a5f-bb03-8e391e458b74",
   "metadata": {},
   "outputs": [
    {
     "name": "stdout",
     "output_type": "stream",
     "text": [
      "a 배열의 최대값 :  1.3486587953167646\n"
     ]
    }
   ],
   "source": [
    "# 3.2 1)\n",
    "a = np.random.randn(2,2,2)\n",
    "print(\"a 배열의 최대값 : \", a.max())"
   ]
  },
  {
   "cell_type": "code",
   "execution_count": 6,
   "id": "628bf7e7-a3f5-470b-802d-3bfa47db7126",
   "metadata": {},
   "outputs": [
    {
     "name": "stdout",
     "output_type": "stream",
     "text": [
      "a 배열의 최소값 :  -1.4468202061232702\n"
     ]
    }
   ],
   "source": [
    "# 3.2 1)\n",
    "a = np.random.randn(2,2,2)\n",
    "print(\"a 배열의 최소값 : \", a.min())"
   ]
  },
  {
   "cell_type": "code",
   "execution_count": 12,
   "id": "6b84dc78-9273-4e6d-9851-db78a392bf94",
   "metadata": {},
   "outputs": [
    {
     "name": "stdout",
     "output_type": "stream",
     "text": [
      "[[ 2  3  4  5]\n",
      " [ 7  8  9 10]\n",
      " [12 13 14 15]]\n",
      "[[1 2]]\n",
      "[[ 1  3  5]\n",
      " [11 13 15]]\n"
     ]
    }
   ],
   "source": [
    "# 3.3\n",
    "a = np.array([[1, 2, 3, 4, 5],\n",
    "              [6, 7, 8, 9, 10,],\n",
    "              [11, 12, 13, 14, 15]])\n",
    "# 1)\n",
    "print(a[:,1:])\n",
    "\n",
    "# 2)\n",
    "print(a[0:1,0:2])\n",
    "\n",
    "# 3)\n",
    "print(a[::2,::2])"
   ]
  },
  {
   "cell_type": "code",
   "execution_count": 15,
   "id": "c3fdf99c-8bbb-4391-ab1c-69d545b39e16",
   "metadata": {},
   "outputs": [
    {
     "name": "stdout",
     "output_type": "stream",
     "text": [
      "[[ 1  2  3  4  5]\n",
      " [ 6  7  8  9 10]\n",
      " [11 12 13 14 15]\n",
      " [16 17 18 19 20]\n",
      " [21 22 23 24 25]]\n"
     ]
    }
   ],
   "source": [
    "# 3.4 1)\n",
    "a = np.arange(1,26).reshape(5,5)\n",
    "print(a)"
   ]
  },
  {
   "cell_type": "code",
   "execution_count": 18,
   "id": "43bfed2a-6c45-497a-b96d-f3ac587d62fe",
   "metadata": {},
   "outputs": [
    {
     "data": {
      "text/plain": [
       "array([55, 60, 65, 70, 75])"
      ]
     },
     "execution_count": 18,
     "metadata": {},
     "output_type": "execute_result"
    }
   ],
   "source": [
    "# 3.4 2)\n",
    "sum_a = np.sum(a, axis = 0)\n",
    "print(행렬의 행 방향 성분의 합:  sum_a)"
   ]
  },
  {
   "cell_type": "code",
   "execution_count": null,
   "id": "75822ff0-b098-4abb-b16b-302460ee4914",
   "metadata": {},
   "outputs": [],
   "source": []
  }
 ],
 "metadata": {
  "kernelspec": {
   "display_name": "Python 3 (ipykernel)",
   "language": "python",
   "name": "python3"
  },
  "language_info": {
   "codemirror_mode": {
    "name": "ipython",
    "version": 3
   },
   "file_extension": ".py",
   "mimetype": "text/x-python",
   "name": "python",
   "nbconvert_exporter": "python",
   "pygments_lexer": "ipython3",
   "version": "3.12.7"
  }
 },
 "nbformat": 4,
 "nbformat_minor": 5
}
