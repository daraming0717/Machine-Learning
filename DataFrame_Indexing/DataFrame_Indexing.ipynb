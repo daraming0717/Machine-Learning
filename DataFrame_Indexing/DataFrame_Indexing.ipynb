{
 "cells": [
  {
   "cell_type": "markdown",
   "id": "29ae7e1a-853f-4d08-9b6c-e941781c8404",
   "metadata": {},
   "source": [
    "# 2025.04.04\n",
    "## Dataframe Indexing"
   ]
  },
  {
   "cell_type": "code",
   "execution_count": 3,
   "id": "db8b2fd0-afcd-409d-8f01-f02786defbff",
   "metadata": {},
   "outputs": [],
   "source": [
    "# library 불러오기\n",
    "import numpy as np\n",
    "import matplotlib as plt\n",
    "import pandas as pd"
   ]
  },
  {
   "cell_type": "code",
   "execution_count": 4,
   "id": "7cfd372d-24b5-490e-b46a-7abbaf3b3876",
   "metadata": {},
   "outputs": [],
   "source": [
    "# 데이터 읽어오기\n",
    "vdf = pd.read_csv('./data/vehicle_prod.csv', index_col = 0)"
   ]
  },
  {
   "cell_type": "code",
   "execution_count": 5,
   "id": "d68c7309-4116-4250-8bfa-472d8d86627b",
   "metadata": {},
   "outputs": [
    {
     "data": {
      "text/html": [
       "<div>\n",
       "<style scoped>\n",
       "    .dataframe tbody tr th:only-of-type {\n",
       "        vertical-align: middle;\n",
       "    }\n",
       "\n",
       "    .dataframe tbody tr th {\n",
       "        vertical-align: top;\n",
       "    }\n",
       "\n",
       "    .dataframe thead th {\n",
       "        text-align: right;\n",
       "    }\n",
       "</style>\n",
       "<table border=\"1\" class=\"dataframe\">\n",
       "  <thead>\n",
       "    <tr style=\"text-align: right;\">\n",
       "      <th></th>\n",
       "      <th>2007</th>\n",
       "      <th>2008</th>\n",
       "      <th>2009</th>\n",
       "      <th>2010</th>\n",
       "      <th>2011</th>\n",
       "    </tr>\n",
       "  </thead>\n",
       "  <tbody>\n",
       "    <tr>\n",
       "      <th>China</th>\n",
       "      <td>7.71</td>\n",
       "      <td>7.95</td>\n",
       "      <td>11.96</td>\n",
       "      <td>15.84</td>\n",
       "      <td>16.33</td>\n",
       "    </tr>\n",
       "    <tr>\n",
       "      <th>EU</th>\n",
       "      <td>19.02</td>\n",
       "      <td>17.71</td>\n",
       "      <td>15.00</td>\n",
       "      <td>16.70</td>\n",
       "      <td>17.48</td>\n",
       "    </tr>\n",
       "    <tr>\n",
       "      <th>US</th>\n",
       "      <td>10.47</td>\n",
       "      <td>8.45</td>\n",
       "      <td>5.58</td>\n",
       "      <td>7.60</td>\n",
       "      <td>8.40</td>\n",
       "    </tr>\n",
       "    <tr>\n",
       "      <th>Japan</th>\n",
       "      <td>10.87</td>\n",
       "      <td>10.83</td>\n",
       "      <td>7.55</td>\n",
       "      <td>9.09</td>\n",
       "      <td>7.88</td>\n",
       "    </tr>\n",
       "    <tr>\n",
       "      <th>Korea</th>\n",
       "      <td>4.04</td>\n",
       "      <td>3.78</td>\n",
       "      <td>3.45</td>\n",
       "      <td>4.20</td>\n",
       "      <td>4.62</td>\n",
       "    </tr>\n",
       "  </tbody>\n",
       "</table>\n",
       "</div>"
      ],
      "text/plain": [
       "        2007   2008   2009   2010   2011\n",
       "China   7.71   7.95  11.96  15.84  16.33\n",
       "EU     19.02  17.71  15.00  16.70  17.48\n",
       "US     10.47   8.45   5.58   7.60   8.40\n",
       "Japan  10.87  10.83   7.55   9.09   7.88\n",
       "Korea   4.04   3.78   3.45   4.20   4.62"
      ]
     },
     "execution_count": 5,
     "metadata": {},
     "output_type": "execute_result"
    }
   ],
   "source": [
    "vdf.head()"
   ]
  },
  {
   "cell_type": "code",
   "execution_count": 6,
   "id": "1df42ab0-f966-40b5-a6bd-85847ab02393",
   "metadata": {},
   "outputs": [
    {
     "data": {
      "text/html": [
       "<div>\n",
       "<style scoped>\n",
       "    .dataframe tbody tr th:only-of-type {\n",
       "        vertical-align: middle;\n",
       "    }\n",
       "\n",
       "    .dataframe tbody tr th {\n",
       "        vertical-align: top;\n",
       "    }\n",
       "\n",
       "    .dataframe thead th {\n",
       "        text-align: right;\n",
       "    }\n",
       "</style>\n",
       "<table border=\"1\" class=\"dataframe\">\n",
       "  <thead>\n",
       "    <tr style=\"text-align: right;\">\n",
       "      <th></th>\n",
       "      <th>2007</th>\n",
       "      <th>2008</th>\n",
       "      <th>2009</th>\n",
       "      <th>2010</th>\n",
       "      <th>2011</th>\n",
       "    </tr>\n",
       "  </thead>\n",
       "  <tbody>\n",
       "    <tr>\n",
       "      <th>US</th>\n",
       "      <td>10.47</td>\n",
       "      <td>8.45</td>\n",
       "      <td>5.58</td>\n",
       "      <td>7.60</td>\n",
       "      <td>8.40</td>\n",
       "    </tr>\n",
       "    <tr>\n",
       "      <th>Japan</th>\n",
       "      <td>10.87</td>\n",
       "      <td>10.83</td>\n",
       "      <td>7.55</td>\n",
       "      <td>9.09</td>\n",
       "      <td>7.88</td>\n",
       "    </tr>\n",
       "    <tr>\n",
       "      <th>Korea</th>\n",
       "      <td>4.04</td>\n",
       "      <td>3.78</td>\n",
       "      <td>3.45</td>\n",
       "      <td>4.20</td>\n",
       "      <td>4.62</td>\n",
       "    </tr>\n",
       "    <tr>\n",
       "      <th>Mexico</th>\n",
       "      <td>2.01</td>\n",
       "      <td>2.05</td>\n",
       "      <td>1.50</td>\n",
       "      <td>2.25</td>\n",
       "      <td>2.54</td>\n",
       "    </tr>\n",
       "  </tbody>\n",
       "</table>\n",
       "</div>"
      ],
      "text/plain": [
       "         2007   2008  2009  2010  2011\n",
       "US      10.47   8.45  5.58  7.60  8.40\n",
       "Japan   10.87  10.83  7.55  9.09  7.88\n",
       "Korea    4.04   3.78  3.45  4.20  4.62\n",
       "Mexico   2.01   2.05  1.50  2.25  2.54"
      ]
     },
     "execution_count": 6,
     "metadata": {},
     "output_type": "execute_result"
    }
   ],
   "source": [
    "# 슬라이싱\n",
    "vdf[2:6]     # last index + 1"
   ]
  },
  {
   "cell_type": "markdown",
   "id": "0aa35d57-4788-40b6-8df6-f95812141cf0",
   "metadata": {},
   "source": [
    "## indexing, slicing\n",
    "## 1) [m:n] => 지정된 구간의 항목을 가져오기\n",
    "## 2) loc[] => 인덱스에서 특정 레이블이 있는 행을 가져오기\n",
    "## 3) iloc[] => 인덱스에서 정수형 인덱스를 사용해서 특정 위치에 있는 행을 가져오기"
   ]
  },
  {
   "cell_type": "code",
   "execution_count": 7,
   "id": "fd2382f7-a3e5-4379-b747-7624f36af404",
   "metadata": {},
   "outputs": [
    {
     "data": {
      "text/html": [
       "<div>\n",
       "<style scoped>\n",
       "    .dataframe tbody tr th:only-of-type {\n",
       "        vertical-align: middle;\n",
       "    }\n",
       "\n",
       "    .dataframe tbody tr th {\n",
       "        vertical-align: top;\n",
       "    }\n",
       "\n",
       "    .dataframe thead th {\n",
       "        text-align: right;\n",
       "    }\n",
       "</style>\n",
       "<table border=\"1\" class=\"dataframe\">\n",
       "  <thead>\n",
       "    <tr style=\"text-align: right;\">\n",
       "      <th></th>\n",
       "      <th>2007</th>\n",
       "      <th>2008</th>\n",
       "      <th>2009</th>\n",
       "      <th>2010</th>\n",
       "      <th>2011</th>\n",
       "    </tr>\n",
       "  </thead>\n",
       "  <tbody>\n",
       "    <tr>\n",
       "      <th>China</th>\n",
       "      <td>7.71</td>\n",
       "      <td>7.95</td>\n",
       "      <td>11.96</td>\n",
       "      <td>15.84</td>\n",
       "      <td>16.33</td>\n",
       "    </tr>\n",
       "    <tr>\n",
       "      <th>EU</th>\n",
       "      <td>19.02</td>\n",
       "      <td>17.71</td>\n",
       "      <td>15.00</td>\n",
       "      <td>16.70</td>\n",
       "      <td>17.48</td>\n",
       "    </tr>\n",
       "    <tr>\n",
       "      <th>US</th>\n",
       "      <td>10.47</td>\n",
       "      <td>8.45</td>\n",
       "      <td>5.58</td>\n",
       "      <td>7.60</td>\n",
       "      <td>8.40</td>\n",
       "    </tr>\n",
       "    <tr>\n",
       "      <th>Japan</th>\n",
       "      <td>10.87</td>\n",
       "      <td>10.83</td>\n",
       "      <td>7.55</td>\n",
       "      <td>9.09</td>\n",
       "      <td>7.88</td>\n",
       "    </tr>\n",
       "    <tr>\n",
       "      <th>Korea</th>\n",
       "      <td>4.04</td>\n",
       "      <td>3.78</td>\n",
       "      <td>3.45</td>\n",
       "      <td>4.20</td>\n",
       "      <td>4.62</td>\n",
       "    </tr>\n",
       "    <tr>\n",
       "      <th>Mexico</th>\n",
       "      <td>2.01</td>\n",
       "      <td>2.05</td>\n",
       "      <td>1.50</td>\n",
       "      <td>2.25</td>\n",
       "      <td>2.54</td>\n",
       "    </tr>\n",
       "  </tbody>\n",
       "</table>\n",
       "</div>"
      ],
      "text/plain": [
       "         2007   2008   2009   2010   2011\n",
       "China    7.71   7.95  11.96  15.84  16.33\n",
       "EU      19.02  17.71  15.00  16.70  17.48\n",
       "US      10.47   8.45   5.58   7.60   8.40\n",
       "Japan   10.87  10.83   7.55   9.09   7.88\n",
       "Korea    4.04   3.78   3.45   4.20   4.62\n",
       "Mexico   2.01   2.05   1.50   2.25   2.54"
      ]
     },
     "execution_count": 7,
     "metadata": {},
     "output_type": "execute_result"
    }
   ],
   "source": [
    "vdf"
   ]
  },
  {
   "cell_type": "code",
   "execution_count": 8,
   "id": "312af2aa-b74d-4172-a6f7-eb6d725e9366",
   "metadata": {},
   "outputs": [
    {
     "data": {
      "text/plain": [
       "2007    4.04\n",
       "2008    3.78\n",
       "2009    3.45\n",
       "2010    4.20\n",
       "2011    4.62\n",
       "Name: Korea, dtype: float64"
      ]
     },
     "execution_count": 8,
     "metadata": {},
     "output_type": "execute_result"
    }
   ],
   "source": [
    "# korea 행만 추출 (2)\n",
    "kor = vdf.loc['Korea']\n",
    "kor"
   ]
  },
  {
   "cell_type": "code",
   "execution_count": 9,
   "id": "d21b2391-f1f6-453d-91a3-a7daae72dc3c",
   "metadata": {},
   "outputs": [
    {
     "data": {
      "text/html": [
       "<div>\n",
       "<style scoped>\n",
       "    .dataframe tbody tr th:only-of-type {\n",
       "        vertical-align: middle;\n",
       "    }\n",
       "\n",
       "    .dataframe tbody tr th {\n",
       "        vertical-align: top;\n",
       "    }\n",
       "\n",
       "    .dataframe thead th {\n",
       "        text-align: right;\n",
       "    }\n",
       "</style>\n",
       "<table border=\"1\" class=\"dataframe\">\n",
       "  <thead>\n",
       "    <tr style=\"text-align: right;\">\n",
       "      <th></th>\n",
       "      <th>2007</th>\n",
       "      <th>2008</th>\n",
       "      <th>2009</th>\n",
       "      <th>2010</th>\n",
       "      <th>2011</th>\n",
       "    </tr>\n",
       "  </thead>\n",
       "  <tbody>\n",
       "    <tr>\n",
       "      <th>US</th>\n",
       "      <td>10.47</td>\n",
       "      <td>8.45</td>\n",
       "      <td>5.58</td>\n",
       "      <td>7.6</td>\n",
       "      <td>8.40</td>\n",
       "    </tr>\n",
       "    <tr>\n",
       "      <th>Korea</th>\n",
       "      <td>4.04</td>\n",
       "      <td>3.78</td>\n",
       "      <td>3.45</td>\n",
       "      <td>4.2</td>\n",
       "      <td>4.62</td>\n",
       "    </tr>\n",
       "  </tbody>\n",
       "</table>\n",
       "</div>"
      ],
      "text/plain": [
       "        2007  2008  2009  2010  2011\n",
       "US     10.47  8.45  5.58   7.6  8.40\n",
       "Korea   4.04  3.78  3.45   4.2  4.62"
      ]
     },
     "execution_count": 9,
     "metadata": {},
     "output_type": "execute_result"
    }
   ],
   "source": [
    "vdf.loc[['US', 'Korea']]\n",
    "#vdf.loc['US', 'Korea']"
   ]
  },
  {
   "cell_type": "code",
   "execution_count": 10,
   "id": "85c97c83-ae21-4c1a-a630-a5cfed6d04cd",
   "metadata": {},
   "outputs": [
    {
     "name": "stderr",
     "output_type": "stream",
     "text": [
      "C:\\Users\\AtiVer\\AppData\\Local\\Temp\\ipykernel_12924\\2163970621.py:2: FutureWarning: Series.__getitem__ treating keys as positions is deprecated. In a future version, integer keys will always be treated as labels (consistent with DataFrame behavior). To access a value by position, use `ser.iloc[pos]`\n",
      "  vdf['2011'][[0, 4]]\n"
     ]
    },
    {
     "data": {
      "text/plain": [
       "China    16.33\n",
       "Korea     4.62\n",
       "Name: 2011, dtype: float64"
      ]
     },
     "execution_count": 10,
     "metadata": {},
     "output_type": "execute_result"
    }
   ],
   "source": [
    "# 2011년도 한국과 중국의 생산대 수\n",
    "vdf['2011'][[0, 4]]"
   ]
  },
  {
   "cell_type": "code",
   "execution_count": 11,
   "id": "61b45d7f-bab0-4d25-a4d9-3951772dd684",
   "metadata": {},
   "outputs": [
    {
     "data": {
      "text/plain": [
       "4.62"
      ]
     },
     "execution_count": 11,
     "metadata": {},
     "output_type": "execute_result"
    }
   ],
   "source": [
    "# Q1. Korea의 2011년도 생산대 수\n",
    "# vdf['2011'][4]\n",
    "vdf.loc['Korea', '2011']"
   ]
  },
  {
   "cell_type": "code",
   "execution_count": 12,
   "id": "56d26a54-a32e-4104-afce-b6020f0c8957",
   "metadata": {},
   "outputs": [
    {
     "data": {
      "text/plain": [
       "2007    4.04\n",
       "2008    3.78\n",
       "2009    3.45\n",
       "2010    4.20\n",
       "2011    4.62\n",
       "Name: Korea, dtype: float64"
      ]
     },
     "execution_count": 12,
     "metadata": {},
     "output_type": "execute_result"
    }
   ],
   "source": [
    "# iloc[]\n",
    "vdf.iloc[4]"
   ]
  },
  {
   "cell_type": "code",
   "execution_count": 13,
   "id": "a6e22d6d-862d-4e67-8d23-6bf39156e37b",
   "metadata": {},
   "outputs": [
    {
     "data": {
      "text/html": [
       "<div>\n",
       "<style scoped>\n",
       "    .dataframe tbody tr th:only-of-type {\n",
       "        vertical-align: middle;\n",
       "    }\n",
       "\n",
       "    .dataframe tbody tr th {\n",
       "        vertical-align: top;\n",
       "    }\n",
       "\n",
       "    .dataframe thead th {\n",
       "        text-align: right;\n",
       "    }\n",
       "</style>\n",
       "<table border=\"1\" class=\"dataframe\">\n",
       "  <thead>\n",
       "    <tr style=\"text-align: right;\">\n",
       "      <th></th>\n",
       "      <th>2007</th>\n",
       "      <th>2008</th>\n",
       "      <th>2009</th>\n",
       "      <th>2010</th>\n",
       "      <th>2011</th>\n",
       "    </tr>\n",
       "  </thead>\n",
       "  <tbody>\n",
       "    <tr>\n",
       "      <th>US</th>\n",
       "      <td>10.47</td>\n",
       "      <td>8.45</td>\n",
       "      <td>5.58</td>\n",
       "      <td>7.6</td>\n",
       "      <td>8.40</td>\n",
       "    </tr>\n",
       "    <tr>\n",
       "      <th>Korea</th>\n",
       "      <td>4.04</td>\n",
       "      <td>3.78</td>\n",
       "      <td>3.45</td>\n",
       "      <td>4.2</td>\n",
       "      <td>4.62</td>\n",
       "    </tr>\n",
       "  </tbody>\n",
       "</table>\n",
       "</div>"
      ],
      "text/plain": [
       "        2007  2008  2009  2010  2011\n",
       "US     10.47  8.45  5.58   7.6  8.40\n",
       "Korea   4.04  3.78  3.45   4.2  4.62"
      ]
     },
     "execution_count": 13,
     "metadata": {},
     "output_type": "execute_result"
    }
   ],
   "source": [
    "vdf.iloc[[2, 4]]"
   ]
  },
  {
   "cell_type": "code",
   "execution_count": 14,
   "id": "1efdcd55-da79-4881-aade-263c4e45be70",
   "metadata": {},
   "outputs": [
    {
     "data": {
      "text/html": [
       "<div>\n",
       "<style scoped>\n",
       "    .dataframe tbody tr th:only-of-type {\n",
       "        vertical-align: middle;\n",
       "    }\n",
       "\n",
       "    .dataframe tbody tr th {\n",
       "        vertical-align: top;\n",
       "    }\n",
       "\n",
       "    .dataframe thead th {\n",
       "        text-align: right;\n",
       "    }\n",
       "</style>\n",
       "<table border=\"1\" class=\"dataframe\">\n",
       "  <thead>\n",
       "    <tr style=\"text-align: right;\">\n",
       "      <th></th>\n",
       "      <th>2007</th>\n",
       "      <th>2008</th>\n",
       "      <th>2009</th>\n",
       "      <th>2010</th>\n",
       "      <th>2011</th>\n",
       "    </tr>\n",
       "  </thead>\n",
       "  <tbody>\n",
       "    <tr>\n",
       "      <th>US</th>\n",
       "      <td>10.47</td>\n",
       "      <td>8.45</td>\n",
       "      <td>5.58</td>\n",
       "      <td>7.60</td>\n",
       "      <td>8.40</td>\n",
       "    </tr>\n",
       "    <tr>\n",
       "      <th>Japan</th>\n",
       "      <td>10.87</td>\n",
       "      <td>10.83</td>\n",
       "      <td>7.55</td>\n",
       "      <td>9.09</td>\n",
       "      <td>7.88</td>\n",
       "    </tr>\n",
       "  </tbody>\n",
       "</table>\n",
       "</div>"
      ],
      "text/plain": [
       "        2007   2008  2009  2010  2011\n",
       "US     10.47   8.45  5.58  7.60  8.40\n",
       "Japan  10.87  10.83  7.55  9.09  7.88"
      ]
     },
     "execution_count": 14,
     "metadata": {},
     "output_type": "execute_result"
    }
   ],
   "source": [
    "vdf.iloc[2:4] # last index + 1"
   ]
  },
  {
   "cell_type": "code",
   "execution_count": 15,
   "id": "2ccf6770-b6c2-406c-9bf6-4ab4a6b986ed",
   "metadata": {},
   "outputs": [
    {
     "data": {
      "text/html": [
       "<div>\n",
       "<style scoped>\n",
       "    .dataframe tbody tr th:only-of-type {\n",
       "        vertical-align: middle;\n",
       "    }\n",
       "\n",
       "    .dataframe tbody tr th {\n",
       "        vertical-align: top;\n",
       "    }\n",
       "\n",
       "    .dataframe thead th {\n",
       "        text-align: right;\n",
       "    }\n",
       "</style>\n",
       "<table border=\"1\" class=\"dataframe\">\n",
       "  <thead>\n",
       "    <tr style=\"text-align: right;\">\n",
       "      <th></th>\n",
       "      <th>2007</th>\n",
       "      <th>2008</th>\n",
       "      <th>2009</th>\n",
       "      <th>2010</th>\n",
       "      <th>2011</th>\n",
       "    </tr>\n",
       "  </thead>\n",
       "  <tbody>\n",
       "    <tr>\n",
       "      <th>US</th>\n",
       "      <td>10.47</td>\n",
       "      <td>8.45</td>\n",
       "      <td>5.58</td>\n",
       "      <td>7.60</td>\n",
       "      <td>8.40</td>\n",
       "    </tr>\n",
       "    <tr>\n",
       "      <th>Japan</th>\n",
       "      <td>10.87</td>\n",
       "      <td>10.83</td>\n",
       "      <td>7.55</td>\n",
       "      <td>9.09</td>\n",
       "      <td>7.88</td>\n",
       "    </tr>\n",
       "  </tbody>\n",
       "</table>\n",
       "</div>"
      ],
      "text/plain": [
       "        2007   2008  2009  2010  2011\n",
       "US     10.47   8.45  5.58  7.60  8.40\n",
       "Japan  10.87  10.83  7.55  9.09  7.88"
      ]
     },
     "execution_count": 15,
     "metadata": {},
     "output_type": "execute_result"
    }
   ],
   "source": [
    "# Q2. US, Japan 행 출력\n",
    "# vdf.iloc[2:4]\n",
    "vdf.iloc[[2, 3]]"
   ]
  },
  {
   "cell_type": "code",
   "execution_count": 16,
   "id": "e3fa4f05-429d-4e2e-b577-1bfc742b8cf7",
   "metadata": {},
   "outputs": [],
   "source": [
    "# weather.csv 불러오기\n",
    "file_path = 'C:/Users/AtiVer/Documents/ML_gyu/data/weather.csv' # 절대 경로\n",
    "weather = pd.read_csv(file_path, index_col = 0, encoding = 'CP949')"
   ]
  },
  {
   "cell_type": "code",
   "execution_count": 17,
   "id": "df376452-14a0-43e7-9700-752579177016",
   "metadata": {},
   "outputs": [
    {
     "data": {
      "text/html": [
       "<div>\n",
       "<style scoped>\n",
       "    .dataframe tbody tr th:only-of-type {\n",
       "        vertical-align: middle;\n",
       "    }\n",
       "\n",
       "    .dataframe tbody tr th {\n",
       "        vertical-align: top;\n",
       "    }\n",
       "\n",
       "    .dataframe thead th {\n",
       "        text-align: right;\n",
       "    }\n",
       "</style>\n",
       "<table border=\"1\" class=\"dataframe\">\n",
       "  <thead>\n",
       "    <tr style=\"text-align: right;\">\n",
       "      <th></th>\n",
       "      <th>평균기온</th>\n",
       "      <th>최대풍속</th>\n",
       "      <th>평균풍속</th>\n",
       "    </tr>\n",
       "    <tr>\n",
       "      <th>일시</th>\n",
       "      <th></th>\n",
       "      <th></th>\n",
       "      <th></th>\n",
       "    </tr>\n",
       "  </thead>\n",
       "  <tbody>\n",
       "    <tr>\n",
       "      <th>2010-08-01</th>\n",
       "      <td>28.7</td>\n",
       "      <td>8.3</td>\n",
       "      <td>3.4</td>\n",
       "    </tr>\n",
       "    <tr>\n",
       "      <th>2010-08-02</th>\n",
       "      <td>25.2</td>\n",
       "      <td>8.7</td>\n",
       "      <td>3.8</td>\n",
       "    </tr>\n",
       "    <tr>\n",
       "      <th>2010-08-03</th>\n",
       "      <td>22.1</td>\n",
       "      <td>6.3</td>\n",
       "      <td>2.9</td>\n",
       "    </tr>\n",
       "    <tr>\n",
       "      <th>2010-08-04</th>\n",
       "      <td>25.3</td>\n",
       "      <td>6.6</td>\n",
       "      <td>4.2</td>\n",
       "    </tr>\n",
       "    <tr>\n",
       "      <th>2010-08-05</th>\n",
       "      <td>27.2</td>\n",
       "      <td>9.1</td>\n",
       "      <td>5.6</td>\n",
       "    </tr>\n",
       "  </tbody>\n",
       "</table>\n",
       "</div>"
      ],
      "text/plain": [
       "            평균기온  최대풍속  평균풍속\n",
       "일시                          \n",
       "2010-08-01  28.7   8.3   3.4\n",
       "2010-08-02  25.2   8.7   3.8\n",
       "2010-08-03  22.1   6.3   2.9\n",
       "2010-08-04  25.3   6.6   4.2\n",
       "2010-08-05  27.2   9.1   5.6"
      ]
     },
     "execution_count": 17,
     "metadata": {},
     "output_type": "execute_result"
    }
   ],
   "source": [
    "weather.head()"
   ]
  },
  {
   "cell_type": "code",
   "execution_count": 18,
   "id": "ea8acff3-cf28-4434-999b-f8d1d4268f69",
   "metadata": {},
   "outputs": [
    {
     "name": "stdout",
     "output_type": "stream",
     "text": [
      "weather 데이터의 shape:  (3653, 3)\n"
     ]
    }
   ],
   "source": [
    "print('weather 데이터의 shape: ', weather.shape)"
   ]
  },
  {
   "cell_type": "code",
   "execution_count": 19,
   "id": "bf77a2a9-6599-4d99-b6d5-51d9c08fd87f",
   "metadata": {},
   "outputs": [
    {
     "data": {
      "text/plain": [
       "Index(['평균기온', '최대풍속', '평균풍속'], dtype='object')"
      ]
     },
     "execution_count": 19,
     "metadata": {},
     "output_type": "execute_result"
    }
   ],
   "source": [
    "weather.columns"
   ]
  },
  {
   "cell_type": "code",
   "execution_count": 20,
   "id": "33c949bf-d64e-4ae1-ab95-40aa05dc17e3",
   "metadata": {},
   "outputs": [
    {
     "data": {
      "text/plain": [
       "Index(['2010-08-01', '2010-08-02', '2010-08-03', '2010-08-04', '2010-08-05',\n",
       "       '2010-08-06', '2010-08-07', '2010-08-08', '2010-08-09', '2010-08-10',\n",
       "       ...\n",
       "       '2020-07-22', '2020-07-23', '2020-07-24', '2020-07-25', '2020-07-26',\n",
       "       '2020-07-27', '2020-07-28', '2020-07-29', '2020-07-30', '2020-07-31'],\n",
       "      dtype='object', name='일시', length=3653)"
      ]
     },
     "execution_count": 20,
     "metadata": {},
     "output_type": "execute_result"
    }
   ],
   "source": [
    "weather.index"
   ]
  },
  {
   "cell_type": "code",
   "execution_count": 21,
   "id": "b0ca44ee-b89c-4d30-8c32-0502d1e69a4b",
   "metadata": {},
   "outputs": [
    {
     "data": {
      "text/html": [
       "<div>\n",
       "<style scoped>\n",
       "    .dataframe tbody tr th:only-of-type {\n",
       "        vertical-align: middle;\n",
       "    }\n",
       "\n",
       "    .dataframe tbody tr th {\n",
       "        vertical-align: top;\n",
       "    }\n",
       "\n",
       "    .dataframe thead th {\n",
       "        text-align: right;\n",
       "    }\n",
       "</style>\n",
       "<table border=\"1\" class=\"dataframe\">\n",
       "  <thead>\n",
       "    <tr style=\"text-align: right;\">\n",
       "      <th></th>\n",
       "      <th>평균기온</th>\n",
       "      <th>최대풍속</th>\n",
       "      <th>평균풍속</th>\n",
       "    </tr>\n",
       "  </thead>\n",
       "  <tbody>\n",
       "    <tr>\n",
       "      <th>count</th>\n",
       "      <td>3653.000000</td>\n",
       "      <td>3649.000000</td>\n",
       "      <td>3647.000000</td>\n",
       "    </tr>\n",
       "    <tr>\n",
       "      <th>mean</th>\n",
       "      <td>12.942102</td>\n",
       "      <td>7.911099</td>\n",
       "      <td>3.936441</td>\n",
       "    </tr>\n",
       "    <tr>\n",
       "      <th>std</th>\n",
       "      <td>8.538507</td>\n",
       "      <td>3.029862</td>\n",
       "      <td>1.888473</td>\n",
       "    </tr>\n",
       "    <tr>\n",
       "      <th>min</th>\n",
       "      <td>-9.000000</td>\n",
       "      <td>2.000000</td>\n",
       "      <td>0.200000</td>\n",
       "    </tr>\n",
       "    <tr>\n",
       "      <th>25%</th>\n",
       "      <td>5.400000</td>\n",
       "      <td>5.700000</td>\n",
       "      <td>2.500000</td>\n",
       "    </tr>\n",
       "    <tr>\n",
       "      <th>50%</th>\n",
       "      <td>13.800000</td>\n",
       "      <td>7.600000</td>\n",
       "      <td>3.600000</td>\n",
       "    </tr>\n",
       "    <tr>\n",
       "      <th>75%</th>\n",
       "      <td>20.100000</td>\n",
       "      <td>9.700000</td>\n",
       "      <td>5.000000</td>\n",
       "    </tr>\n",
       "    <tr>\n",
       "      <th>max</th>\n",
       "      <td>31.300000</td>\n",
       "      <td>26.000000</td>\n",
       "      <td>14.900000</td>\n",
       "    </tr>\n",
       "  </tbody>\n",
       "</table>\n",
       "</div>"
      ],
      "text/plain": [
       "              평균기온         최대풍속         평균풍속\n",
       "count  3653.000000  3649.000000  3647.000000\n",
       "mean     12.942102     7.911099     3.936441\n",
       "std       8.538507     3.029862     1.888473\n",
       "min      -9.000000     2.000000     0.200000\n",
       "25%       5.400000     5.700000     2.500000\n",
       "50%      13.800000     7.600000     3.600000\n",
       "75%      20.100000     9.700000     5.000000\n",
       "max      31.300000    26.000000    14.900000"
      ]
     },
     "execution_count": 21,
     "metadata": {},
     "output_type": "execute_result"
    }
   ],
   "source": [
    "# 통계량 구하기\n",
    "weather.describe()"
   ]
  },
  {
   "cell_type": "code",
   "execution_count": 22,
   "id": "fca4014c-c393-412c-9523-e5219ec5cda6",
   "metadata": {},
   "outputs": [
    {
     "name": "stdout",
     "output_type": "stream",
     "text": [
      "평균기온    12.942102\n",
      "최대풍속     7.911099\n",
      "평균풍속     3.936441\n",
      "dtype: float64\n",
      "평균기온    8.538507\n",
      "최대풍속    3.029862\n",
      "평균풍속    1.888473\n",
      "dtype: float64\n"
     ]
    }
   ],
   "source": [
    "# 평균 분석\n",
    "print(weather.mean())\n",
    "print(weather.std())"
   ]
  },
  {
   "cell_type": "markdown",
   "id": "84820611-0219-49dd-b59e-f24966685934",
   "metadata": {},
   "source": [
    "## 결측치(결손값, missing value) 확인"
   ]
  },
  {
   "cell_type": "code",
   "execution_count": 23,
   "id": "5cd0ebdd-c71f-4fb6-854b-9f055abbb036",
   "metadata": {},
   "outputs": [
    {
     "name": "stdout",
     "output_type": "stream",
     "text": [
      "<class 'pandas.core.frame.DataFrame'>\n",
      "Index: 3653 entries, 2010-08-01 to 2020-07-31\n",
      "Data columns (total 3 columns):\n",
      " #   Column  Non-Null Count  Dtype  \n",
      "---  ------  --------------  -----  \n",
      " 0   평균기온    3653 non-null   float64\n",
      " 1   최대풍속    3649 non-null   float64\n",
      " 2   평균풍속    3647 non-null   float64\n",
      "dtypes: float64(3)\n",
      "memory usage: 114.2+ KB\n"
     ]
    }
   ],
   "source": [
    "weather.info()"
   ]
  },
  {
   "cell_type": "code",
   "execution_count": 24,
   "id": "cb038523-486e-483b-a5de-e93cecaca896",
   "metadata": {},
   "outputs": [
    {
     "data": {
      "text/plain": [
       "평균기온    3653\n",
       "최대풍속    3649\n",
       "평균풍속    3647\n",
       "dtype: int64"
      ]
     },
     "execution_count": 24,
     "metadata": {},
     "output_type": "execute_result"
    }
   ],
   "source": [
    "weather.count()"
   ]
  },
  {
   "cell_type": "code",
   "execution_count": 25,
   "id": "d40e4ca3-1d12-46f7-8748-29dff5a744ab",
   "metadata": {},
   "outputs": [
    {
     "name": "stdout",
     "output_type": "stream",
     "text": [
      "            평균기온  최대풍속  평균풍속\n",
      "일시                          \n",
      "2012-02-11  -0.7   NaN   NaN\n",
      "2012-02-12   0.4   NaN   NaN\n",
      "2012-02-13   4.0   NaN   NaN\n",
      "2015-03-22  10.1  11.6   NaN\n",
      "2015-04-01   7.3  12.1   NaN\n",
      "2019-04-18  15.7  11.7   NaN\n"
     ]
    }
   ],
   "source": [
    "missing_data_mean = weather[weather['평균풍속'].isna()]\n",
    "print(missing_data_mean)"
   ]
  },
  {
   "cell_type": "code",
   "execution_count": 26,
   "id": "8b4f77cf-43ea-4a2f-a347-4ceea4bfd512",
   "metadata": {},
   "outputs": [
    {
     "name": "stdout",
     "output_type": "stream",
     "text": [
      "            평균기온  최대풍속  평균풍속\n",
      "일시                          \n",
      "2012-02-11  -0.7   NaN   NaN\n",
      "2012-02-12   0.4   NaN   NaN\n",
      "2012-02-13   4.0   NaN   NaN\n",
      "2019-04-19   7.8   NaN   2.3\n"
     ]
    }
   ],
   "source": [
    "missing_data_max = weather[weather['최대풍속'].isna()]\n",
    "print(missing_data_max)"
   ]
  },
  {
   "cell_type": "markdown",
   "id": "8c32ed6b-2ff1-4e23-ae5b-e1c8f5119dfd",
   "metadata": {},
   "source": [
    "## 결측치 처리 방법\n",
    "### 1) 열에 해당하는 평균, 중앙값으로 대체\n",
    "### 2) 결측값에 특정값으로 대체\n",
    "### 3) 통계적 방법 : 패턴을 파악하여 통계적 기법 사용\n",
    "### 4) 머신러닝 방법 : 클러스터링 등을 이용하여 결측값 처리\n",
    "### 5) 삭제 : 해당 열의 결측값이 많은 경우(50% 이상 기준에 따라)"
   ]
  },
  {
   "cell_type": "code",
   "execution_count": 27,
   "id": "d7b517a3-e222-4454-b0bf-488362eba91a",
   "metadata": {},
   "outputs": [],
   "source": [
    "# 평균으로 대체\n",
    "weather_new = weather.fillna(weather['평균풍속'].mean(), inplace = False)"
   ]
  },
  {
   "cell_type": "code",
   "execution_count": 28,
   "id": "b38bd796-a8fd-4670-a33b-9159af03227e",
   "metadata": {},
   "outputs": [
    {
     "data": {
      "text/plain": [
       "평균기온    3653\n",
       "최대풍속    3653\n",
       "평균풍속    3653\n",
       "dtype: int64"
      ]
     },
     "execution_count": 28,
     "metadata": {},
     "output_type": "execute_result"
    }
   ],
   "source": [
    "weather_new.count()"
   ]
  },
  {
   "cell_type": "code",
   "execution_count": 29,
   "id": "a137588a-86e2-424c-9180-e0d309b96f68",
   "metadata": {},
   "outputs": [
    {
     "data": {
      "text/plain": [
       "평균기온   -0.7\n",
       "최대풍속    NaN\n",
       "평균풍속    NaN\n",
       "Name: 2012-02-11, dtype: float64"
      ]
     },
     "execution_count": 29,
     "metadata": {},
     "output_type": "execute_result"
    }
   ],
   "source": [
    "weather.loc['2012-02-11']"
   ]
  },
  {
   "cell_type": "code",
   "execution_count": 30,
   "id": "7104e958-ce4d-44d3-9477-705b87f7f50c",
   "metadata": {},
   "outputs": [
    {
     "data": {
      "text/plain": [
       "평균기온   -0.700000\n",
       "최대풍속    3.936441\n",
       "평균풍속    3.936441\n",
       "Name: 2012-02-11, dtype: float64"
      ]
     },
     "execution_count": 30,
     "metadata": {},
     "output_type": "execute_result"
    }
   ],
   "source": [
    "weather_new.loc['2012-02-11']"
   ]
  },
  {
   "cell_type": "code",
   "execution_count": 31,
   "id": "eef43ab5-2d7a-40d2-a6d4-5f72a86605da",
   "metadata": {},
   "outputs": [
    {
     "data": {
      "text/plain": [
       "평균기온   -0.7\n",
       "최대풍속    0.0\n",
       "평균풍속    0.0\n",
       "Name: 2012-02-11, dtype: float64"
      ]
     },
     "execution_count": 31,
     "metadata": {},
     "output_type": "execute_result"
    }
   ],
   "source": [
    "# Q3. NaN을 0으로 채우기\n",
    "weather_0 = weather.fillna(0, inplace = False)\n",
    "weather_0.loc['2012-02-11']"
   ]
  },
  {
   "cell_type": "code",
   "execution_count": 32,
   "id": "3498a397-9b13-4051-8ac4-1ef64016e919",
   "metadata": {},
   "outputs": [
    {
     "data": {
      "text/html": [
       "<div>\n",
       "<style scoped>\n",
       "    .dataframe tbody tr th:only-of-type {\n",
       "        vertical-align: middle;\n",
       "    }\n",
       "\n",
       "    .dataframe tbody tr th {\n",
       "        vertical-align: top;\n",
       "    }\n",
       "\n",
       "    .dataframe thead th {\n",
       "        text-align: right;\n",
       "    }\n",
       "</style>\n",
       "<table border=\"1\" class=\"dataframe\">\n",
       "  <thead>\n",
       "    <tr style=\"text-align: right;\">\n",
       "      <th></th>\n",
       "      <th>평균기온</th>\n",
       "      <th>최대풍속</th>\n",
       "      <th>평균풍속</th>\n",
       "    </tr>\n",
       "    <tr>\n",
       "      <th>일시</th>\n",
       "      <th></th>\n",
       "      <th></th>\n",
       "      <th></th>\n",
       "    </tr>\n",
       "  </thead>\n",
       "  <tbody>\n",
       "    <tr>\n",
       "      <th>2010-08-01</th>\n",
       "      <td>28.7</td>\n",
       "      <td>8.3</td>\n",
       "      <td>3.4</td>\n",
       "    </tr>\n",
       "    <tr>\n",
       "      <th>2010-08-02</th>\n",
       "      <td>25.2</td>\n",
       "      <td>8.7</td>\n",
       "      <td>3.8</td>\n",
       "    </tr>\n",
       "    <tr>\n",
       "      <th>2010-08-03</th>\n",
       "      <td>22.1</td>\n",
       "      <td>6.3</td>\n",
       "      <td>2.9</td>\n",
       "    </tr>\n",
       "    <tr>\n",
       "      <th>2010-08-04</th>\n",
       "      <td>25.3</td>\n",
       "      <td>6.6</td>\n",
       "      <td>4.2</td>\n",
       "    </tr>\n",
       "    <tr>\n",
       "      <th>2010-08-05</th>\n",
       "      <td>27.2</td>\n",
       "      <td>9.1</td>\n",
       "      <td>5.6</td>\n",
       "    </tr>\n",
       "  </tbody>\n",
       "</table>\n",
       "</div>"
      ],
      "text/plain": [
       "            평균기온  최대풍속  평균풍속\n",
       "일시                          \n",
       "2010-08-01  28.7   8.3   3.4\n",
       "2010-08-02  25.2   8.7   3.8\n",
       "2010-08-03  22.1   6.3   2.9\n",
       "2010-08-04  25.3   6.6   4.2\n",
       "2010-08-05  27.2   9.1   5.6"
      ]
     },
     "execution_count": 32,
     "metadata": {},
     "output_type": "execute_result"
    }
   ],
   "source": [
    "weather.head()"
   ]
  },
  {
   "cell_type": "markdown",
   "id": "59b74589-834f-48ce-995f-959b1dcb301e",
   "metadata": {},
   "source": [
    "# Q4. 평균기온, 최대풍속, 평균풍속 시각화\n",
    "# matplotlib : boxplot()\n",
    "# subplots() ==> 1x3 graph"
   ]
  },
  {
   "cell_type": "code",
   "execution_count": 33,
   "id": "750463e1-a288-497f-a52d-834af347a997",
   "metadata": {},
   "outputs": [
    {
     "data": {
      "image/png": "[encoded data removed]",
      "text/plain": [
       "<Figure size 640x480 with 3 Axes>"
      ]
     },
     "metadata": {},
     "output_type": "display_data"
    }
   ],
   "source": [
    "import matplotlib.pyplot as plt\n",
    "\n",
    "plt.subplot(1, 3, 1)\n",
    "plt.boxplot(weather_new['평균기온'])\n",
    "plt.xlabel('Mean Temperature')\n",
    "\n",
    "plt.subplot(1, 3, 2)\n",
    "plt.boxplot(weather_new['최대풍속'])\n",
    "plt.xlabel('Max Wind Speed')\n",
    "\n",
    "plt.subplot(1, 3, 3)\n",
    "plt.boxplot(weather_new['평균풍속'])\n",
    "plt.xlabel('Mean Wind Speed')\n",
    "plt.show()"
   ]
  }
 ],
 "metadata": {
  "kernelspec": {
   "display_name": "Python 3 (ipykernel)",
   "language": "python",
   "name": "python3"
  },
  "language_info": {
   "codemirror_mode": {
    "name": "ipython",
    "version": 3
   },
   "file_extension": ".py",
   "mimetype": "text/x-python",
   "name": "python",
   "nbconvert_exporter": "python",
   "pygments_lexer": "ipython3",
   "version": "3.12.7"
  }
 },
 "nbformat": 4,
 "nbformat_minor": 5
}
