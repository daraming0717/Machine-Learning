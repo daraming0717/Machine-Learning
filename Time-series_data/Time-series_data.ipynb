{
 "cells": [
  {
   "cell_type": "markdown",
   "id": "0276a72e-afe7-4fd0-949b-a1fe2f708941",
   "metadata": {},
   "source": [
    "# 2025.04.08\n",
    "## Time-series data"
   ]
  },
  {
   "cell_type": "code",
   "execution_count": 15,
   "id": "c6cf8fc7-c6c5-4b35-a27f-c55a044e85d1",
   "metadata": {},
   "outputs": [],
   "source": [
    "import numpy as np\n",
    "import pandas as pd\n",
    "import matplotlib.pyplot as plt"
   ]
  },
  {
   "cell_type": "code",
   "execution_count": 16,
   "id": "d30b0511-07fd-4c47-a900-00b4492dde4d",
   "metadata": {},
   "outputs": [
    {
     "name": "stdout",
     "output_type": "stream",
     "text": [
      "<class 'pandas.core.indexes.base.Index'>\n",
      "Index([2025, 2025, 2025, 2025], dtype='int32')\n",
      "Index([4, 4, 4, 4], dtype='int32')\n",
      "Index([8, 8, 8, 8], dtype='int32')\n"
     ]
    }
   ],
   "source": [
    "#DatatimeIndex()\n",
    "d_list = ['04/08/2025', '04-08-2025','2025-04-08', '2025/04/08']\n",
    "year = pd.DatetimeIndex(d_list).year\n",
    "month = pd.DatetimeIndex(d_list).month\n",
    "day = pd.DatetimeIndex(d_list).day\n",
    "print(type(year))\n",
    "print(year)\n",
    "print(month)\n",
    "print(day)"
   ]
  },
  {
   "cell_type": "code",
   "execution_count": 24,
   "id": "dad8b3d2-884c-49f6-9a9e-f8b1679dbca9",
   "metadata": {},
   "outputs": [
    {
     "name": "stdout",
     "output_type": "stream",
     "text": [
      "Index([15, 15], dtype='int32')\n",
      "Index([57, 0], dtype='int32')\n"
     ]
    }
   ],
   "source": [
    "dt_list = ['2025-04-08 15:36:57', '2025/04/08 15:37:00']\n",
    "hour = pd.DatetimeIndex(dt_list).hour\n",
    "second = pd.DatetimeIndex(dt_list).second\n",
    "print(hour)\n",
    "print(second)"
   ]
  },
  {
   "cell_type": "code",
   "execution_count": 20,
   "id": "2b95f2dd-4482-44cc-8339-169f2b699959",
   "metadata": {},
   "outputs": [
    {
     "data": {
      "text/html": [
       "<div>\n",
       "<style scoped>\n",
       "    .dataframe tbody tr th:only-of-type {\n",
       "        vertical-align: middle;\n",
       "    }\n",
       "\n",
       "    .dataframe tbody tr th {\n",
       "        vertical-align: top;\n",
       "    }\n",
       "\n",
       "    .dataframe thead th {\n",
       "        text-align: right;\n",
       "    }\n",
       "</style>\n",
       "<table border=\"1\" class=\"dataframe\">\n",
       "  <thead>\n",
       "    <tr style=\"text-align: right;\">\n",
       "      <th></th>\n",
       "      <th>일시</th>\n",
       "      <th>평균기온</th>\n",
       "      <th>최대풍속</th>\n",
       "      <th>평균풍속</th>\n",
       "    </tr>\n",
       "  </thead>\n",
       "  <tbody>\n",
       "    <tr>\n",
       "      <th>0</th>\n",
       "      <td>2010-08-01</td>\n",
       "      <td>28.7</td>\n",
       "      <td>8.3</td>\n",
       "      <td>3.4</td>\n",
       "    </tr>\n",
       "    <tr>\n",
       "      <th>1</th>\n",
       "      <td>2010-08-02</td>\n",
       "      <td>25.2</td>\n",
       "      <td>8.7</td>\n",
       "      <td>3.8</td>\n",
       "    </tr>\n",
       "    <tr>\n",
       "      <th>2</th>\n",
       "      <td>2010-08-03</td>\n",
       "      <td>22.1</td>\n",
       "      <td>6.3</td>\n",
       "      <td>2.9</td>\n",
       "    </tr>\n",
       "    <tr>\n",
       "      <th>3</th>\n",
       "      <td>2010-08-04</td>\n",
       "      <td>25.3</td>\n",
       "      <td>6.6</td>\n",
       "      <td>4.2</td>\n",
       "    </tr>\n",
       "    <tr>\n",
       "      <th>4</th>\n",
       "      <td>2010-08-05</td>\n",
       "      <td>27.2</td>\n",
       "      <td>9.1</td>\n",
       "      <td>5.6</td>\n",
       "    </tr>\n",
       "  </tbody>\n",
       "</table>\n",
       "</div>"
      ],
      "text/plain": [
       "           일시  평균기온  최대풍속  평균풍속\n",
       "0  2010-08-01  28.7   8.3   3.4\n",
       "1  2010-08-02  25.2   8.7   3.8\n",
       "2  2010-08-03  22.1   6.3   2.9\n",
       "3  2010-08-04  25.3   6.6   4.2\n",
       "4  2010-08-05  27.2   9.1   5.6"
      ]
     },
     "execution_count": 20,
     "metadata": {},
     "output_type": "execute_result"
    }
   ],
   "source": [
    "# weather 데이터 읽어오기\n",
    "file_path = './data/weather.csv'\n",
    "weather = pd.read_csv(file_path, encoding = 'CP949')\n",
    "weather.head()"
   ]
  },
  {
   "cell_type": "code",
   "execution_count": 43,
   "id": "09180022-162f-401e-a1ce-6a301ca37bf6",
   "metadata": {},
   "outputs": [
    {
     "data": {
      "text/html": [
       "<div>\n",
       "<style scoped>\n",
       "    .dataframe tbody tr th:only-of-type {\n",
       "        vertical-align: middle;\n",
       "    }\n",
       "\n",
       "    .dataframe tbody tr th {\n",
       "        vertical-align: top;\n",
       "    }\n",
       "\n",
       "    .dataframe thead th {\n",
       "        text-align: right;\n",
       "    }\n",
       "</style>\n",
       "<table border=\"1\" class=\"dataframe\">\n",
       "  <thead>\n",
       "    <tr style=\"text-align: right;\">\n",
       "      <th></th>\n",
       "      <th>일시</th>\n",
       "      <th>평균기온</th>\n",
       "      <th>최대풍속</th>\n",
       "      <th>평균풍속</th>\n",
       "      <th>연도</th>\n",
       "      <th>월</th>\n",
       "      <th>일</th>\n",
       "    </tr>\n",
       "  </thead>\n",
       "  <tbody>\n",
       "    <tr>\n",
       "      <th>0</th>\n",
       "      <td>2010-08-01</td>\n",
       "      <td>28.7</td>\n",
       "      <td>8.3</td>\n",
       "      <td>3.4</td>\n",
       "      <td>2010</td>\n",
       "      <td>8</td>\n",
       "      <td>1</td>\n",
       "    </tr>\n",
       "    <tr>\n",
       "      <th>1</th>\n",
       "      <td>2010-08-02</td>\n",
       "      <td>25.2</td>\n",
       "      <td>8.7</td>\n",
       "      <td>3.8</td>\n",
       "      <td>2010</td>\n",
       "      <td>8</td>\n",
       "      <td>2</td>\n",
       "    </tr>\n",
       "    <tr>\n",
       "      <th>2</th>\n",
       "      <td>2010-08-03</td>\n",
       "      <td>22.1</td>\n",
       "      <td>6.3</td>\n",
       "      <td>2.9</td>\n",
       "      <td>2010</td>\n",
       "      <td>8</td>\n",
       "      <td>3</td>\n",
       "    </tr>\n",
       "    <tr>\n",
       "      <th>3</th>\n",
       "      <td>2010-08-04</td>\n",
       "      <td>25.3</td>\n",
       "      <td>6.6</td>\n",
       "      <td>4.2</td>\n",
       "      <td>2010</td>\n",
       "      <td>8</td>\n",
       "      <td>4</td>\n",
       "    </tr>\n",
       "    <tr>\n",
       "      <th>4</th>\n",
       "      <td>2010-08-05</td>\n",
       "      <td>27.2</td>\n",
       "      <td>9.1</td>\n",
       "      <td>5.6</td>\n",
       "      <td>2010</td>\n",
       "      <td>8</td>\n",
       "      <td>5</td>\n",
       "    </tr>\n",
       "    <tr>\n",
       "      <th>...</th>\n",
       "      <td>...</td>\n",
       "      <td>...</td>\n",
       "      <td>...</td>\n",
       "      <td>...</td>\n",
       "      <td>...</td>\n",
       "      <td>...</td>\n",
       "      <td>...</td>\n",
       "    </tr>\n",
       "    <tr>\n",
       "      <th>3648</th>\n",
       "      <td>2020-07-27</td>\n",
       "      <td>22.1</td>\n",
       "      <td>4.2</td>\n",
       "      <td>1.7</td>\n",
       "      <td>2020</td>\n",
       "      <td>7</td>\n",
       "      <td>27</td>\n",
       "    </tr>\n",
       "    <tr>\n",
       "      <th>3649</th>\n",
       "      <td>2020-07-28</td>\n",
       "      <td>21.9</td>\n",
       "      <td>4.5</td>\n",
       "      <td>1.6</td>\n",
       "      <td>2020</td>\n",
       "      <td>7</td>\n",
       "      <td>28</td>\n",
       "    </tr>\n",
       "    <tr>\n",
       "      <th>3650</th>\n",
       "      <td>2020-07-29</td>\n",
       "      <td>21.6</td>\n",
       "      <td>3.2</td>\n",
       "      <td>1.0</td>\n",
       "      <td>2020</td>\n",
       "      <td>7</td>\n",
       "      <td>29</td>\n",
       "    </tr>\n",
       "    <tr>\n",
       "      <th>3651</th>\n",
       "      <td>2020-07-30</td>\n",
       "      <td>22.9</td>\n",
       "      <td>9.7</td>\n",
       "      <td>2.4</td>\n",
       "      <td>2020</td>\n",
       "      <td>7</td>\n",
       "      <td>30</td>\n",
       "    </tr>\n",
       "    <tr>\n",
       "      <th>3652</th>\n",
       "      <td>2020-07-31</td>\n",
       "      <td>25.7</td>\n",
       "      <td>4.8</td>\n",
       "      <td>2.5</td>\n",
       "      <td>2020</td>\n",
       "      <td>7</td>\n",
       "      <td>31</td>\n",
       "    </tr>\n",
       "  </tbody>\n",
       "</table>\n",
       "<p>3653 rows × 7 columns</p>\n",
       "</div>"
      ],
      "text/plain": [
       "              일시  평균기온  최대풍속  평균풍속    연도  월   일\n",
       "0     2010-08-01  28.7   8.3   3.4  2010  8   1\n",
       "1     2010-08-02  25.2   8.7   3.8  2010  8   2\n",
       "2     2010-08-03  22.1   6.3   2.9  2010  8   3\n",
       "3     2010-08-04  25.3   6.6   4.2  2010  8   4\n",
       "4     2010-08-05  27.2   9.1   5.6  2010  8   5\n",
       "...          ...   ...   ...   ...   ... ..  ..\n",
       "3648  2020-07-27  22.1   4.2   1.7  2020  7  27\n",
       "3649  2020-07-28  21.9   4.5   1.6  2020  7  28\n",
       "3650  2020-07-29  21.6   3.2   1.0  2020  7  29\n",
       "3651  2020-07-30  22.9   9.7   2.4  2020  7  30\n",
       "3652  2020-07-31  25.7   4.8   2.5  2020  7  31\n",
       "\n",
       "[3653 rows x 7 columns]"
      ]
     },
     "execution_count": 43,
     "metadata": {},
     "output_type": "execute_result"
    }
   ],
   "source": [
    "# 연도, 월, 일 컬럼 추가해서 데이터 추출\n",
    "weather['연도'] = pd.DatetimeIndex(weather['일시']).year\n",
    "weather['월'] = pd.DatetimeIndex(weather['일시']).month\n",
    "weather['일'] = pd.DatetimeIndex(weather['일시']).day\n",
    "weather"
   ]
  },
  {
   "cell_type": "code",
   "execution_count": 44,
   "id": "9213d60e-f7bb-4d2e-82b5-20461a83ef6a",
   "metadata": {},
   "outputs": [
    {
     "data": {
      "text/html": [
       "<div>\n",
       "<style scoped>\n",
       "    .dataframe tbody tr th:only-of-type {\n",
       "        vertical-align: middle;\n",
       "    }\n",
       "\n",
       "    .dataframe tbody tr th {\n",
       "        vertical-align: top;\n",
       "    }\n",
       "\n",
       "    .dataframe thead th {\n",
       "        text-align: right;\n",
       "    }\n",
       "</style>\n",
       "<table border=\"1\" class=\"dataframe\">\n",
       "  <thead>\n",
       "    <tr style=\"text-align: right;\">\n",
       "      <th></th>\n",
       "      <th>일시</th>\n",
       "      <th>평균기온</th>\n",
       "      <th>최대풍속</th>\n",
       "      <th>평균풍속</th>\n",
       "      <th>연도</th>\n",
       "      <th>월</th>\n",
       "      <th>일</th>\n",
       "    </tr>\n",
       "  </thead>\n",
       "  <tbody>\n",
       "    <tr>\n",
       "      <th>0</th>\n",
       "      <td>2010-08-01</td>\n",
       "      <td>28.7</td>\n",
       "      <td>8.3</td>\n",
       "      <td>3.4</td>\n",
       "      <td>2010</td>\n",
       "      <td>8</td>\n",
       "      <td>1</td>\n",
       "    </tr>\n",
       "    <tr>\n",
       "      <th>1</th>\n",
       "      <td>2010-08-02</td>\n",
       "      <td>25.2</td>\n",
       "      <td>8.7</td>\n",
       "      <td>3.8</td>\n",
       "      <td>2010</td>\n",
       "      <td>8</td>\n",
       "      <td>2</td>\n",
       "    </tr>\n",
       "    <tr>\n",
       "      <th>2</th>\n",
       "      <td>2010-08-03</td>\n",
       "      <td>22.1</td>\n",
       "      <td>6.3</td>\n",
       "      <td>2.9</td>\n",
       "      <td>2010</td>\n",
       "      <td>8</td>\n",
       "      <td>3</td>\n",
       "    </tr>\n",
       "    <tr>\n",
       "      <th>3</th>\n",
       "      <td>2010-08-04</td>\n",
       "      <td>25.3</td>\n",
       "      <td>6.6</td>\n",
       "      <td>4.2</td>\n",
       "      <td>2010</td>\n",
       "      <td>8</td>\n",
       "      <td>4</td>\n",
       "    </tr>\n",
       "    <tr>\n",
       "      <th>4</th>\n",
       "      <td>2010-08-05</td>\n",
       "      <td>27.2</td>\n",
       "      <td>9.1</td>\n",
       "      <td>5.6</td>\n",
       "      <td>2010</td>\n",
       "      <td>8</td>\n",
       "      <td>5</td>\n",
       "    </tr>\n",
       "    <tr>\n",
       "      <th>...</th>\n",
       "      <td>...</td>\n",
       "      <td>...</td>\n",
       "      <td>...</td>\n",
       "      <td>...</td>\n",
       "      <td>...</td>\n",
       "      <td>...</td>\n",
       "      <td>...</td>\n",
       "    </tr>\n",
       "    <tr>\n",
       "      <th>148</th>\n",
       "      <td>2010-12-27</td>\n",
       "      <td>0.5</td>\n",
       "      <td>8.1</td>\n",
       "      <td>4.0</td>\n",
       "      <td>2010</td>\n",
       "      <td>12</td>\n",
       "      <td>27</td>\n",
       "    </tr>\n",
       "    <tr>\n",
       "      <th>149</th>\n",
       "      <td>2010-12-28</td>\n",
       "      <td>3.6</td>\n",
       "      <td>8.9</td>\n",
       "      <td>4.6</td>\n",
       "      <td>2010</td>\n",
       "      <td>12</td>\n",
       "      <td>28</td>\n",
       "    </tr>\n",
       "    <tr>\n",
       "      <th>150</th>\n",
       "      <td>2010-12-29</td>\n",
       "      <td>1.0</td>\n",
       "      <td>7.1</td>\n",
       "      <td>2.5</td>\n",
       "      <td>2010</td>\n",
       "      <td>12</td>\n",
       "      <td>29</td>\n",
       "    </tr>\n",
       "    <tr>\n",
       "      <th>151</th>\n",
       "      <td>2010-12-30</td>\n",
       "      <td>-0.9</td>\n",
       "      <td>8.4</td>\n",
       "      <td>4.3</td>\n",
       "      <td>2010</td>\n",
       "      <td>12</td>\n",
       "      <td>30</td>\n",
       "    </tr>\n",
       "    <tr>\n",
       "      <th>152</th>\n",
       "      <td>2010-12-31</td>\n",
       "      <td>-1.9</td>\n",
       "      <td>12.0</td>\n",
       "      <td>7.8</td>\n",
       "      <td>2010</td>\n",
       "      <td>12</td>\n",
       "      <td>31</td>\n",
       "    </tr>\n",
       "  </tbody>\n",
       "</table>\n",
       "<p>153 rows × 7 columns</p>\n",
       "</div>"
      ],
      "text/plain": [
       "             일시  평균기온  최대풍속  평균풍속    연도   월   일\n",
       "0    2010-08-01  28.7   8.3   3.4  2010   8   1\n",
       "1    2010-08-02  25.2   8.7   3.8  2010   8   2\n",
       "2    2010-08-03  22.1   6.3   2.9  2010   8   3\n",
       "3    2010-08-04  25.3   6.6   4.2  2010   8   4\n",
       "4    2010-08-05  27.2   9.1   5.6  2010   8   5\n",
       "..          ...   ...   ...   ...   ...  ..  ..\n",
       "148  2010-12-27   0.5   8.1   4.0  2010  12  27\n",
       "149  2010-12-28   3.6   8.9   4.6  2010  12  28\n",
       "150  2010-12-29   1.0   7.1   2.5  2010  12  29\n",
       "151  2010-12-30  -0.9   8.4   4.3  2010  12  30\n",
       "152  2010-12-31  -1.9  12.0   7.8  2010  12  31\n",
       "\n",
       "[153 rows x 7 columns]"
      ]
     },
     "execution_count": 44,
     "metadata": {},
     "output_type": "execute_result"
    }
   ],
   "source": [
    "# 일정 연도만 데이터 추출\n",
    "year_2010 = weather.loc[weather['연도'] == 2010]\n",
    "year_2010"
   ]
  },
  {
   "cell_type": "code",
   "execution_count": 71,
   "id": "7bd13980-aefc-4b54-8685-56bdfe7ae192",
   "metadata": {},
   "outputs": [
    {
     "name": "stdout",
     "output_type": "stream",
     "text": [
      "[0, 0, 0, 0, 0, 0, 0, 0, 0, 0, 0, 0]\n"
     ]
    }
   ],
   "source": [
    "# 12개의 None -> 리스트, 12개의 0 -> 리스트\n",
    "monthly = [ None for x in range(12) ] #12개의 범위 내에서 x에 None을 입력\n",
    "monthly_temp = [ 0 for x in range(12) ]\n",
    "print(monthly_temp)"
   ]
  },
  {
   "cell_type": "code",
   "execution_count": 72,
   "id": "fca92e8d-207d-470d-ac79-61e461dff2e5",
   "metadata": {},
   "outputs": [
    {
     "data": {
      "text/plain": [
       "Text(0, 0.5, 'Temperature')"
      ]
     },
     "execution_count": 72,
     "metadata": {},
     "output_type": "execute_result"
    },
    {
     "data": {
      "image/png": "[encoded data removed]",
      "text/plain": [
       "<Figure size 640x480 with 1 Axes>"
      ]
     },
     "metadata": {},
     "output_type": "display_data"
    }
   ],
   "source": [
    "for i in range(12):\n",
    "    monthly[i] = weather[weather['월'] == i + 1]\n",
    "    monthly_temp[i] = monthly[i]['평균기온'].mean()\n",
    "    months = np.arange(1,13)\n",
    "plt.bar(months, monthly_temp, color='green')\n",
    "plt.xlabel('Month')\n",
    "plt.ylabel('Temperature')"
   ]
  },
  {
   "cell_type": "markdown",
   "id": "59fce18b-1f59-430c-b24c-d123af1f2307",
   "metadata": {},
   "source": [
    "# Q1. 2015년도의 월별 풍속을 막대그래프로 그리기"
   ]
  },
  {
   "cell_type": "code",
   "execution_count": 77,
   "id": "1cd6b24f-d626-49a7-9058-95aa8af6a4e4",
   "metadata": {},
   "outputs": [
    {
     "data": {
      "text/plain": [
       "Text(0, 0.5, 'Wind')"
      ]
     },
     "execution_count": 77,
     "metadata": {},
     "output_type": "execute_result"
    },
    {
     "data": {
      "image/png": "[encoded data removed]",
      "text/plain": [
       "<Figure size 640x480 with 1 Axes>"
      ]
     },
     "metadata": {},
     "output_type": "display_data"
    }
   ],
   "source": [
    "year_2015 = weather.loc[weather['연도'] == 2015]\n",
    "monthly = [ None for x in range(12) ]\n",
    "monthly_wind = [ 0 for x in range(12) ]\n",
    "\n",
    "for i in range(12):\n",
    "    monthly[i] = weather[weather['월'] == i + 1]\n",
    "    monthly_wind[i] = monthly[i]['평균풍속'].mean()\n",
    "\n",
    "months = np.arange(1,13)\n",
    "plt.bar(months, monthly_wind, color='cyan')\n",
    "plt.xlabel('Month')\n",
    "plt.ylabel('Wind')"
   ]
  }
 ],
 "metadata": {
  "kernelspec": {
   "display_name": "Python 3 (ipykernel)",
   "language": "python",
   "name": "python3"
  },
  "language_info": {
   "codemirror_mode": {
    "name": "ipython",
    "version": 3
   },
   "file_extension": ".py",
   "mimetype": "text/x-python",
   "name": "python",
   "nbconvert_exporter": "python",
   "pygments_lexer": "ipython3",
   "version": "3.12.7"
  }
 },
 "nbformat": 4,
 "nbformat_minor": 5
}
