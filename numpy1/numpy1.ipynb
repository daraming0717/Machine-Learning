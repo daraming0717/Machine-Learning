{
 "cells": [
  {
   "cell_type": "markdown",
   "id": "ad78a1c1",
   "metadata": {},
   "source": [
    "# Machine Learning\n",
    "## Numpy"
   ]
  },
  {
   "cell_type": "code",
   "execution_count": 1,
   "id": "53090599",
   "metadata": {},
   "outputs": [],
   "source": [
    "# Numpy 불러오기\n",
    "import numpy as np"
   ]
  },
  {
   "cell_type": "code",
   "execution_count": 2,
   "id": "9a20b2d3",
   "metadata": {},
   "outputs": [],
   "source": [
    "# 매장 A와 B의 3, 4, 5월의 매출\n",
    "# list에 저장\n",
    "store_a = [20, 10, 30]\n",
    "store_b = [70, 90, 70]"
   ]
  },
  {
   "cell_type": "code",
   "execution_count": 3,
   "id": "89b79816",
   "metadata": {},
   "outputs": [
    {
     "data": {
      "text/plain": [
       "[20, 10, 30, 70, 90, 70]"
      ]
     },
     "execution_count": 3,
     "metadata": {},
     "output_type": "execute_result"
    }
   ],
   "source": [
    "# 리스트의 합\n",
    "list_sum = store_a + store_b\n",
    "list_sum"
   ]
  },
  {
   "cell_type": "code",
   "execution_count": 4,
   "id": "f0cb3d62",
   "metadata": {},
   "outputs": [],
   "source": [
    "# 리스트를 넘파이 array로 변환\n",
    "np_store_a = np.array(store_a)\n",
    "np_store_b = np.array(store_b)"
   ]
  },
  {
   "cell_type": "code",
   "execution_count": 5,
   "id": "36741362",
   "metadata": {},
   "outputs": [
    {
     "data": {
      "text/plain": [
       "array([ 90, 100, 100])"
      ]
     },
     "execution_count": 5,
     "metadata": {},
     "output_type": "execute_result"
    }
   ],
   "source": [
    "array_sum = np_store_a + np_store_b\n",
    "array_sum"
   ]
  },
  {
   "cell_type": "code",
   "execution_count": 6,
   "id": "f4107949",
   "metadata": {},
   "outputs": [
    {
     "data": {
      "text/plain": [
       "((3,), 1, 4, 3)"
      ]
     },
     "execution_count": 6,
     "metadata": {},
     "output_type": "execute_result"
    }
   ],
   "source": [
    "np_store_a.shape, np_store_a.ndim, np_store_a.itemsize, np_store_a.size"
   ]
  },
  {
   "cell_type": "code",
   "execution_count": 7,
   "id": "519274a4",
   "metadata": {},
   "outputs": [
    {
     "data": {
      "text/plain": [
       "array([[1, 2, 3],\n",
       "       [4, 5, 6]])"
      ]
     },
     "execution_count": 7,
     "metadata": {},
     "output_type": "execute_result"
    }
   ],
   "source": [
    "# 2차원 배열\n",
    "b = np.array([[1, 2, 3], [4, 5, 6]])\n",
    "b"
   ]
  },
  {
   "cell_type": "code",
   "execution_count": 9,
   "id": "498bbc07",
   "metadata": {},
   "outputs": [
    {
     "data": {
      "text/plain": [
       "(array([-50, -80, -40]),\n",
       " array([1400,  900, 2100]),\n",
       " array([0.28571429, 0.11111111, 0.42857143]))"
      ]
     },
     "execution_count": 9,
     "metadata": {},
     "output_type": "execute_result"
    }
   ],
   "source": [
    "# np_store_a = [20, 10, 30], np_store_b = [70, 90, 70]\n",
    "sub = np_store_a - np_store_b\n",
    "mul = np_store_a * np_store_b\n",
    "div = np_store_a / np_store_b\n",
    "sub, mul, div"
   ]
  },
  {
   "cell_type": "code",
   "execution_count": 14,
   "id": "ade4b5a7",
   "metadata": {},
   "outputs": [
    {
     "data": {
      "text/plain": [
       "array([[10.,  0.,  0.,  0.],\n",
       "       [ 0., 10.,  0.,  0.],\n",
       "       [ 0.,  0., 10.,  0.],\n",
       "       [ 0.,  0.,  0., 10.]])"
      ]
     },
     "execution_count": 14,
     "metadata": {},
     "output_type": "execute_result"
    }
   ],
   "source": [
    "np.eye(4) * 10"
   ]
  },
  {
   "cell_type": "code",
   "execution_count": null,
   "id": "f8b66745",
   "metadata": {},
   "outputs": [],
   "source": []
  }
 ],
 "metadata": {
  "kernelspec": {
   "display_name": "Python 3 (ipykernel)",
   "language": "python",
   "name": "python3"
  },
  "language_info": {
   "codemirror_mode": {
    "name": "ipython",
    "version": 3
   },
   "file_extension": ".py",
   "mimetype": "text/x-python",
   "name": "python",
   "nbconvert_exporter": "python",
   "pygments_lexer": "ipython3",
   "version": "3.12.7"
  }
 },
 "nbformat": 4,
 "nbformat_minor": 5
}
