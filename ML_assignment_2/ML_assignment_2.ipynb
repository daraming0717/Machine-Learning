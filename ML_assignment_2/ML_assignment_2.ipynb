{
 "cells": [
  {
   "cell_type": "markdown",
   "id": "13a41883-3f7b-4293-ae47-d6ef14cb1e52",
   "metadata": {},
   "source": [
    "# Machine Learning Assignment 2"
   ]
  },
  {
   "cell_type": "code",
   "execution_count": 1,
   "id": "88ef08ee-e6e4-45f7-aea2-908e089b6b43",
   "metadata": {},
   "outputs": [],
   "source": [
    "import numpy as np\n",
    "import pandas as pd"
   ]
  },
  {
   "cell_type": "code",
   "execution_count": 10,
   "id": "ad2314e3-7467-4de6-882c-eca53b4f0a75",
   "metadata": {},
   "outputs": [
    {
     "name": "stdout",
     "output_type": "stream",
     "text": [
      "a    32\n",
      "b    13\n",
      "c    68\n",
      "d    51\n",
      "e    13\n",
      "dtype: int32\n"
     ]
    }
   ],
   "source": [
    "# 6.1 1)\n",
    "np.random.seed(85)\n",
    "num = np.random.randint(0, 100, size=5)\n",
    "num_series = pd.Series(num, index=['a', 'b', 'c', 'd', 'e'])\n",
    "print(num_series)"
   ]
  },
  {
   "cell_type": "code",
   "execution_count": 17,
   "id": "36d34012-b447-4bc8-9c70-e477b372e67c",
   "metadata": {},
   "outputs": [
    {
     "name": "stdout",
     "output_type": "stream",
     "text": [
      "num_series의 최대값 : 68\n"
     ]
    }
   ],
   "source": [
    "# 6.1 2)\n",
    "print(f\"num_series의 최대값 : {num_series.max()}\")"
   ]
  },
  {
   "cell_type": "code",
   "execution_count": 18,
   "id": "905b34ca-ac32-4aa0-8eb7-3fd72e7ab0a3",
   "metadata": {},
   "outputs": [
    {
     "name": "stdout",
     "output_type": "stream",
     "text": [
      "num_series의 최소값 : 13\n"
     ]
    }
   ],
   "source": [
    "# 6.1 3) \n",
    "print(f\"num_series의 최소값 : {num_series.min()}\")"
   ]
  },
  {
   "cell_type": "code",
   "execution_count": 19,
   "id": "87d7a514-73f5-4448-b274-3195ce218964",
   "metadata": {},
   "outputs": [
    {
     "name": "stdout",
     "output_type": "stream",
     "text": [
      "num_series의 평균값 : 35.4\n"
     ]
    }
   ],
   "source": [
    "# 6.1 4)\n",
    "print(f\"num_series의 평균값 : {num_series.mean()}\")"
   ]
  },
  {
   "cell_type": "code",
   "execution_count": 30,
   "id": "779cb180-88ee-4539-a29c-b98b0ae15a12",
   "metadata": {},
   "outputs": [
    {
     "name": "stdout",
     "output_type": "stream",
     "text": [
      "            평균기온  최대풍속  평균풍속\n",
      "일시                          \n",
      "2010-08-01  28.7   8.3   3.4\n",
      "2010-08-02  25.2   8.7   3.8\n",
      "2010-08-03  22.1   6.3   2.9\n",
      "            평균기온  최대풍속  평균풍속\n",
      "일시                          \n",
      "2020-07-29  21.6   3.2   1.0\n",
      "2020-07-30  22.9   9.7   2.4\n",
      "2020-07-31  25.7   4.8   2.5\n"
     ]
    }
   ],
   "source": [
    "# 6.2 1)\n",
    "file_path = 'C:/Users/rbfl0/Downloads/data/weather.csv'\n",
    "weather = pd.read_csv(file_path, encoding='CP949', index_col='일시')\n",
    "print(weather.head(3))\n",
    "print(weather.tail(3))"
   ]
  },
  {
   "cell_type": "code",
   "execution_count": 32,
   "id": "c8236d66-607b-4753-bbc9-cce32aa60e50",
   "metadata": {},
   "outputs": [
    {
     "name": "stdout",
     "output_type": "stream",
     "text": [
      "평균기온    16.6\n",
      "최대풍속     4.4\n",
      "평균풍속     1.9\n",
      "Name: 2015-06-06, dtype: float64\n"
     ]
    }
   ],
   "source": [
    "# 6.2 2)\n",
    "print(weather.loc['2015-06-06'][['평균기온', '최대풍속', '평균풍속']])"
   ]
  },
  {
   "cell_type": "code",
   "execution_count": 35,
   "id": "48b2a6d7-dd0b-4304-8885-e2b12f1192d9",
   "metadata": {},
   "outputs": [
    {
     "name": "stdout",
     "output_type": "stream",
     "text": [
      "            평균기온  최대풍속  평균풍속\n",
      "일시                          \n",
      "2013-08-08  31.3   7.8   4.6\n"
     ]
    }
   ],
   "source": [
    "# 6.2 3)\n",
    "hottest = weather[weather['평균기온'] == weather['평균기온'].max()]\n",
    "print(hottest)"
   ]
  },
  {
   "cell_type": "code",
   "execution_count": 36,
   "id": "a4b1594a-c17d-4819-a540-60aa7bd2b4c4",
   "metadata": {},
   "outputs": [
    {
     "name": "stdout",
     "output_type": "stream",
     "text": [
      "            평균기온  최대풍속  평균풍속\n",
      "일시                          \n",
      "2013-08-08  31.3   7.8   4.6\n",
      "2013-08-09  30.6   9.9   6.4\n",
      "2013-08-10  30.6   7.4   3.8\n",
      "2018-07-23  30.5   6.5   1.6\n",
      "2018-08-04  30.3   5.8   3.0\n"
     ]
    }
   ],
   "source": [
    "# 6.2 4)\n",
    "hot_days = weather[weather['평균기온'] > 30]\n",
    "print(hot_days)"
   ]
  },
  {
   "cell_type": "code",
   "execution_count": 37,
   "id": "48b44ded-9b66-4726-89aa-40d3b5bd4e70",
   "metadata": {},
   "outputs": [
    {
     "name": "stdout",
     "output_type": "stream",
     "text": [
      "    A   B   C   D\n",
      "0  A0  B0  C0  D0\n",
      "1  A1  B1  C1  D1\n",
      "2  A2  B2  C2  D2\n",
      "    B   C   D   E\n",
      "0  B2  C2  D2  E2\n",
      "1  B3  C3  D3  E3\n"
     ]
    }
   ],
   "source": [
    "# 6.3\n",
    "data_1 = {'A': ['A0', 'A1', 'A2'],\n",
    "          'B': ['B0', 'B1', 'B2'],\n",
    "          'C': ['C0', 'C1', 'C2'],\n",
    "          'D': ['D0', 'D1', 'D2']}\n",
    "df_1 = pd.DataFrame(data_1)\n",
    "\n",
    "data_2 = {'B': ['B2', 'B3'],\n",
    "          'C': ['C2', 'C3'],\n",
    "          'D': ['D2', 'D3'],\n",
    "          'E': ['E2', 'E3']}\n",
    "df_2 = pd.DataFrame(data_2)\n",
    "\n",
    "print(df_1)\n",
    "print(df_2)"
   ]
  },
  {
   "cell_type": "code",
   "execution_count": 40,
   "id": "66caa96e-9c2d-49e6-a163-13208cf5101a",
   "metadata": {},
   "outputs": [
    {
     "name": "stdout",
     "output_type": "stream",
     "text": [
      "     A   B   C   D    E\n",
      "0   A0  B0  C0  D0  NaN\n",
      "1   A1  B1  C1  D1  NaN\n",
      "2   A2  B2  C2  D2  NaN\n",
      "0  NaN  B2  C2  D2   E2\n",
      "1  NaN  B3  C3  D3   E3\n"
     ]
    }
   ],
   "source": [
    "# 6.3 1)\n",
    "df = pd.concat([df_1, df_2])\n",
    "print(df)"
   ]
  },
  {
   "cell_type": "code",
   "execution_count": 54,
   "id": "37a54b71-7108-4872-a779-cedfff931be6",
   "metadata": {},
   "outputs": [
    {
     "name": "stdout",
     "output_type": "stream",
     "text": [
      "    A   B   C   D    B    C    D    E\n",
      "0  A0  B0  C0  D0   B2   C2   D2   E2\n",
      "1  A1  B1  C1  D1   B3   C3   D3   E3\n",
      "2  A2  B2  C2  D2  NaN  NaN  NaN  NaN\n"
     ]
    }
   ],
   "source": [
    "# 6.3 2)\n",
    "df = pd.concat([df_1, df_2], axis=1)\n",
    "print(df)"
   ]
  },
  {
   "cell_type": "code",
   "execution_count": 95,
   "id": "d9d93433-f08d-42bc-bcd9-341d7e14d3e9",
   "metadata": {},
   "outputs": [],
   "source": [
    "# 6.4\n",
    "path = 'https://github.com/dongupak/DataML/raw/main/csv/'\n",
    "file = path + 'trade_month.csv'\n",
    "trade = pd.read_csv(file, encoding='cp949')"
   ]
  },
  {
   "cell_type": "code",
   "execution_count": 96,
   "id": "10105c39-8781-46ae-986a-5fb582570988",
   "metadata": {},
   "outputs": [
    {
     "data": {
      "text/html": [
       "<div>\n",
       "<style scoped>\n",
       "    .dataframe tbody tr th:only-of-type {\n",
       "        vertical-align: middle;\n",
       "    }\n",
       "\n",
       "    .dataframe tbody tr th {\n",
       "        vertical-align: top;\n",
       "    }\n",
       "\n",
       "    .dataframe thead th {\n",
       "        text-align: right;\n",
       "    }\n",
       "</style>\n",
       "<table border=\"1\" class=\"dataframe\">\n",
       "  <thead>\n",
       "    <tr style=\"text-align: right;\">\n",
       "      <th></th>\n",
       "      <th>기간</th>\n",
       "      <th>국가명</th>\n",
       "      <th>수출건수</th>\n",
       "      <th>수출금액</th>\n",
       "      <th>수입건수</th>\n",
       "      <th>수입금액</th>\n",
       "      <th>무역수지</th>\n",
       "    </tr>\n",
       "  </thead>\n",
       "  <tbody>\n",
       "    <tr>\n",
       "      <th>0</th>\n",
       "      <td>2015.01</td>\n",
       "      <td>중국</td>\n",
       "      <td>116,932</td>\n",
       "      <td>12,083,947</td>\n",
       "      <td>334,522</td>\n",
       "      <td>8,143,271</td>\n",
       "      <td>3,940,676</td>\n",
       "    </tr>\n",
       "    <tr>\n",
       "      <th>1</th>\n",
       "      <td>2015.01</td>\n",
       "      <td>미국</td>\n",
       "      <td>65,888</td>\n",
       "      <td>5,561,545</td>\n",
       "      <td>509,564</td>\n",
       "      <td>3,625,062</td>\n",
       "      <td>1,936,484</td>\n",
       "    </tr>\n",
       "    <tr>\n",
       "      <th>2</th>\n",
       "      <td>2015.01</td>\n",
       "      <td>일본</td>\n",
       "      <td>54,017</td>\n",
       "      <td>2,251,307</td>\n",
       "      <td>82,480</td>\n",
       "      <td>3,827,247</td>\n",
       "      <td>-1,575,940</td>\n",
       "    </tr>\n",
       "    <tr>\n",
       "      <th>3</th>\n",
       "      <td>2015.01</td>\n",
       "      <td>홍콩</td>\n",
       "      <td>31,348</td>\n",
       "      <td>2,170,483</td>\n",
       "      <td>12,595</td>\n",
       "      <td>175,487</td>\n",
       "      <td>1,994,996</td>\n",
       "    </tr>\n",
       "    <tr>\n",
       "      <th>4</th>\n",
       "      <td>2015.01</td>\n",
       "      <td>베트남</td>\n",
       "      <td>38,008</td>\n",
       "      <td>2,163,836</td>\n",
       "      <td>15,720</td>\n",
       "      <td>704,086</td>\n",
       "      <td>1,459,749</td>\n",
       "    </tr>\n",
       "  </tbody>\n",
       "</table>\n",
       "</div>"
      ],
      "text/plain": [
       "        기간  국가명     수출건수        수출금액     수입건수       수입금액        무역수지\n",
       "0  2015.01   중국  116,932  12,083,947  334,522  8,143,271   3,940,676\n",
       "1  2015.01   미국   65,888   5,561,545  509,564  3,625,062   1,936,484\n",
       "2  2015.01   일본   54,017   2,251,307   82,480  3,827,247  -1,575,940\n",
       "3  2015.01   홍콩   31,348   2,170,483   12,595    175,487   1,994,996\n",
       "4  2015.01  베트남   38,008   2,163,836   15,720    704,086   1,459,749"
      ]
     },
     "execution_count": 96,
     "metadata": {},
     "output_type": "execute_result"
    }
   ],
   "source": [
    "# 6.4 1)\n",
    "trade.head()"
   ]
  },
  {
   "cell_type": "code",
   "execution_count": 97,
   "id": "6cd73190-164b-4707-bb72-6d1fe8fcb9df",
   "metadata": {},
   "outputs": [
    {
     "name": "stdout",
     "output_type": "stream",
     "text": [
      "<class 'pandas.core.frame.DataFrame'>\n",
      "RangeIndex: 2750 entries, 0 to 2749\n",
      "Data columns (total 7 columns):\n",
      " #   Column  Non-Null Count  Dtype  \n",
      "---  ------  --------------  -----  \n",
      " 0   기간      2750 non-null   float64\n",
      " 1   국가명     2750 non-null   object \n",
      " 2   수출건수    2750 non-null   object \n",
      " 3   수출금액    2749 non-null   object \n",
      " 4   수입건수    2750 non-null   object \n",
      " 5   수입금액    2750 non-null   object \n",
      " 6   무역수지    2749 non-null   object \n",
      "dtypes: float64(1), object(6)\n",
      "memory usage: 150.5+ KB\n"
     ]
    }
   ],
   "source": [
    "# 6.4 2)\n",
    "trade.info()"
   ]
  },
  {
   "cell_type": "code",
   "execution_count": 98,
   "id": "3c6b170e-7b99-42fe-aebd-f9895de25080",
   "metadata": {},
   "outputs": [
    {
     "name": "stdout",
     "output_type": "stream",
     "text": [
      "<class 'pandas.core.frame.DataFrame'>\n",
      "RangeIndex: 2750 entries, 0 to 2749\n",
      "Data columns (total 7 columns):\n",
      " #   Column  Non-Null Count  Dtype  \n",
      "---  ------  --------------  -----  \n",
      " 0   기간      2750 non-null   object \n",
      " 1   국가명     2750 non-null   object \n",
      " 2   수출건수    2750 non-null   float64\n",
      " 3   수출금액    2749 non-null   float64\n",
      " 4   수입건수    2750 non-null   float64\n",
      " 5   수입금액    2750 non-null   float64\n",
      " 6   무역수지    2749 non-null   float64\n",
      "dtypes: float64(5), object(2)\n",
      "memory usage: 150.5+ KB\n"
     ]
    }
   ],
   "source": [
    "# 6.4 3)\n",
    "trade['기간'] = trade['기간'].astype(str)\n",
    "for x in list(trade.columns[2:]):\n",
    "    trade[x] = trade[x].str.replace(',','')\n",
    "    trade[x] = trade[x].astype(float)\n",
    "trade.info()"
   ]
  },
  {
   "cell_type": "code",
   "execution_count": 99,
   "id": "2515de15-c590-43fe-9173-8e741f5c1774",
   "metadata": {},
   "outputs": [
    {
     "name": "stdout",
     "output_type": "stream",
     "text": [
      "기간      0\n",
      "국가명     0\n",
      "수출건수    0\n",
      "수출금액    1\n",
      "수입건수    0\n",
      "수입금액    0\n",
      "무역수지    1\n",
      "dtype: int64\n"
     ]
    }
   ],
   "source": [
    "# 6.4 4)\n",
    "print(trade.isnull().sum())"
   ]
  },
  {
   "cell_type": "code",
   "execution_count": 100,
   "id": "badab3d9-34fb-4c96-8bf2-a7df985afe73",
   "metadata": {},
   "outputs": [
    {
     "data": {
      "text/html": [
       "<div>\n",
       "<style scoped>\n",
       "    .dataframe tbody tr th:only-of-type {\n",
       "        vertical-align: middle;\n",
       "    }\n",
       "\n",
       "    .dataframe tbody tr th {\n",
       "        vertical-align: top;\n",
       "    }\n",
       "\n",
       "    .dataframe thead th {\n",
       "        text-align: right;\n",
       "    }\n",
       "</style>\n",
       "<table border=\"1\" class=\"dataframe\">\n",
       "  <thead>\n",
       "    <tr style=\"text-align: right;\">\n",
       "      <th></th>\n",
       "      <th>기간</th>\n",
       "      <th>국가명</th>\n",
       "      <th>수출건수</th>\n",
       "      <th>수출금액</th>\n",
       "      <th>수입건수</th>\n",
       "      <th>수입금액</th>\n",
       "      <th>무역수지</th>\n",
       "    </tr>\n",
       "  </thead>\n",
       "  <tbody>\n",
       "    <tr>\n",
       "      <th>1189</th>\n",
       "      <td>2015.06</td>\n",
       "      <td>체코공화국</td>\n",
       "      <td>2115.0</td>\n",
       "      <td>NaN</td>\n",
       "      <td>1804.0</td>\n",
       "      <td>46722.0</td>\n",
       "      <td>NaN</td>\n",
       "    </tr>\n",
       "  </tbody>\n",
       "</table>\n",
       "</div>"
      ],
      "text/plain": [
       "           기간    국가명    수출건수  수출금액    수입건수     수입금액  무역수지\n",
       "1189  2015.06  체코공화국  2115.0   NaN  1804.0  46722.0   NaN"
      ]
     },
     "execution_count": 100,
     "metadata": {},
     "output_type": "execute_result"
    }
   ],
   "source": [
    "# 6.4 5)\n",
    "trade[trade.isnull().any(axis=1)]"
   ]
  },
  {
   "cell_type": "code",
   "execution_count": 101,
   "id": "149552a5-afe7-404d-b435-5da3aa381fe0",
   "metadata": {},
   "outputs": [
    {
     "name": "stdout",
     "output_type": "stream",
     "text": [
      "기간      0\n",
      "국가명     0\n",
      "수출건수    0\n",
      "수출금액    0\n",
      "수입건수    0\n",
      "수입금액    0\n",
      "무역수지    0\n",
      "dtype: int64\n"
     ]
    }
   ],
   "source": [
    "# 6.4 6)\n",
    "prev_row = trade.loc[1188]\n",
    "next_row = trade.loc[1190]\n",
    "trade.loc[1189, '수출금액'] = (prev_row['수출금액'] + next_row['수출금액']) / 2\n",
    "trade.loc[1189, '무역수지'] = (prev_row['무역수지'] + next_row['무역수지']) / 2\n",
    "\n",
    "print(trade.isnull().sum())"
   ]
  },
  {
   "cell_type": "code",
   "execution_count": 102,
   "id": "5490a58b-7622-42c0-a160-a9bb01cf0216",
   "metadata": {},
   "outputs": [
    {
     "data": {
      "text/html": [
       "<div>\n",
       "<style scoped>\n",
       "    .dataframe tbody tr th:only-of-type {\n",
       "        vertical-align: middle;\n",
       "    }\n",
       "\n",
       "    .dataframe tbody tr th {\n",
       "        vertical-align: top;\n",
       "    }\n",
       "\n",
       "    .dataframe thead th {\n",
       "        text-align: right;\n",
       "    }\n",
       "</style>\n",
       "<table border=\"1\" class=\"dataframe\">\n",
       "  <thead>\n",
       "    <tr style=\"text-align: right;\">\n",
       "      <th></th>\n",
       "      <th>기간</th>\n",
       "      <th>국가명</th>\n",
       "      <th>수출건수</th>\n",
       "      <th>수출금액</th>\n",
       "      <th>수입건수</th>\n",
       "      <th>수입금액</th>\n",
       "      <th>무역수지</th>\n",
       "    </tr>\n",
       "  </thead>\n",
       "  <tbody>\n",
       "    <tr>\n",
       "      <th>230</th>\n",
       "      <td>2015.02</td>\n",
       "      <td>중국</td>\n",
       "      <td>86228.0</td>\n",
       "      <td>9927642.0</td>\n",
       "      <td>209100.0</td>\n",
       "      <td>6980874.0</td>\n",
       "      <td>2946768.0</td>\n",
       "    </tr>\n",
       "  </tbody>\n",
       "</table>\n",
       "</div>"
      ],
      "text/plain": [
       "          기간 국가명     수출건수       수출금액      수입건수       수입금액       무역수지\n",
       "230  2015.02  중국  86228.0  9927642.0  209100.0  6980874.0  2946768.0"
      ]
     },
     "metadata": {},
     "output_type": "display_data"
    },
    {
     "data": {
      "text/html": [
       "<div>\n",
       "<style scoped>\n",
       "    .dataframe tbody tr th:only-of-type {\n",
       "        vertical-align: middle;\n",
       "    }\n",
       "\n",
       "    .dataframe tbody tr th {\n",
       "        vertical-align: top;\n",
       "    }\n",
       "\n",
       "    .dataframe thead th {\n",
       "        text-align: right;\n",
       "    }\n",
       "</style>\n",
       "<table border=\"1\" class=\"dataframe\">\n",
       "  <thead>\n",
       "    <tr style=\"text-align: right;\">\n",
       "      <th></th>\n",
       "      <th>기간</th>\n",
       "      <th>국가명</th>\n",
       "      <th>수출건수</th>\n",
       "      <th>수출금액</th>\n",
       "      <th>수입건수</th>\n",
       "      <th>수입금액</th>\n",
       "      <th>무역수지</th>\n",
       "    </tr>\n",
       "  </thead>\n",
       "  <tbody>\n",
       "    <tr>\n",
       "      <th>229</th>\n",
       "      <td>2015.02</td>\n",
       "      <td>중국</td>\n",
       "      <td>86228.0</td>\n",
       "      <td>9927642.0</td>\n",
       "      <td>209100.0</td>\n",
       "      <td>6980874.0</td>\n",
       "      <td>2946768.0</td>\n",
       "    </tr>\n",
       "    <tr>\n",
       "      <th>230</th>\n",
       "      <td>2015.02</td>\n",
       "      <td>중국</td>\n",
       "      <td>86228.0</td>\n",
       "      <td>9927642.0</td>\n",
       "      <td>209100.0</td>\n",
       "      <td>6980874.0</td>\n",
       "      <td>2946768.0</td>\n",
       "    </tr>\n",
       "  </tbody>\n",
       "</table>\n",
       "</div>"
      ],
      "text/plain": [
       "          기간 국가명     수출건수       수출금액      수입건수       수입금액       무역수지\n",
       "229  2015.02  중국  86228.0  9927642.0  209100.0  6980874.0  2946768.0\n",
       "230  2015.02  중국  86228.0  9927642.0  209100.0  6980874.0  2946768.0"
      ]
     },
     "metadata": {},
     "output_type": "display_data"
    }
   ],
   "source": [
    "# 6.4 7)\n",
    "display(trade[trade.duplicated()])\n",
    "display(trade[(trade['기간']=='2015.02') & (trade['국가명']=='중국')])"
   ]
  },
  {
   "cell_type": "code",
   "execution_count": 103,
   "id": "d630e02f-325b-4689-a5c6-4372571f4289",
   "metadata": {},
   "outputs": [
    {
     "data": {
      "text/html": [
       "<div>\n",
       "<style scoped>\n",
       "    .dataframe tbody tr th:only-of-type {\n",
       "        vertical-align: middle;\n",
       "    }\n",
       "\n",
       "    .dataframe tbody tr th {\n",
       "        vertical-align: top;\n",
       "    }\n",
       "\n",
       "    .dataframe thead th {\n",
       "        text-align: right;\n",
       "    }\n",
       "</style>\n",
       "<table border=\"1\" class=\"dataframe\">\n",
       "  <thead>\n",
       "    <tr style=\"text-align: right;\">\n",
       "      <th></th>\n",
       "      <th>기간</th>\n",
       "      <th>국가명</th>\n",
       "      <th>수출건수</th>\n",
       "      <th>수출금액</th>\n",
       "      <th>수입건수</th>\n",
       "      <th>수입금액</th>\n",
       "      <th>무역수지</th>\n",
       "    </tr>\n",
       "  </thead>\n",
       "  <tbody>\n",
       "  </tbody>\n",
       "</table>\n",
       "</div>"
      ],
      "text/plain": [
       "Empty DataFrame\n",
       "Columns: [기간, 국가명, 수출건수, 수출금액, 수입건수, 수입금액, 무역수지]\n",
       "Index: []"
      ]
     },
     "metadata": {},
     "output_type": "display_data"
    }
   ],
   "source": [
    "# 6.4 7)\n",
    "trade.drop_duplicates(inplace=True)\n",
    "display(trade[trade.duplicated()])"
   ]
  }
 ],
 "metadata": {
  "kernelspec": {
   "display_name": "Python 3 (ipykernel)",
   "language": "python",
   "name": "python3"
  },
  "language_info": {
   "codemirror_mode": {
    "name": "ipython",
    "version": 3
   },
   "file_extension": ".py",
   "mimetype": "text/x-python",
   "name": "python",
   "nbconvert_exporter": "python",
   "pygments_lexer": "ipython3",
   "version": "3.12.7"
  }
 },
 "nbformat": 4,
 "nbformat_minor": 5
}
