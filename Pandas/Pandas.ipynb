{
 "cells": [
  {
   "cell_type": "markdown",
   "id": "c26da4cf-aa67-4cec-b00f-f25ecb9e5f93",
   "metadata": {},
   "source": [
    "# 2025.04.01\n",
    "## Pandas"
   ]
  },
  {
   "cell_type": "code",
   "execution_count": 4,
   "id": "bf193f3a-6db3-40c9-8a0c-dbe7185aa1d7",
   "metadata": {},
   "outputs": [],
   "source": [
    "import numpy as np\n",
    "import pandas as pd\n",
    "import matplotlib.pyplot as plt"
   ]
  },
  {
   "cell_type": "code",
   "execution_count": 103,
   "id": "573df6ee-482a-4225-821a-6a953b001473",
   "metadata": {},
   "outputs": [],
   "source": [
    "# 데이터 읽어오기\n",
    "car_df = pd.read_csv('./data/vehicle_prod.csv')"
   ]
  },
  {
   "cell_type": "code",
   "execution_count": 111,
   "id": "92539f5d-049f-40a1-b58d-c2adbfc0d10d",
   "metadata": {},
   "outputs": [
    {
     "name": "stdout",
     "output_type": "stream",
     "text": [
      "        2007   2008   2009   2010   2011\n",
      "China   7.71   7.95  11.96  15.84  16.33\n",
      "EU     19.02  17.71  15.00  16.70  17.48\n",
      "US     10.47   8.45   5.58   7.60   8.40\n",
      "Japan  10.87  10.83   7.55   9.09   7.88\n",
      "Korea   4.04   3.78   3.45   4.20   4.62\n"
     ]
    }
   ],
   "source": [
    "print(car_df)"
   ]
  },
  {
   "cell_type": "code",
   "execution_count": 114,
   "id": "094327c4-35dc-43ed-b801-21b62d7ff611",
   "metadata": {},
   "outputs": [
    {
     "data": {
      "text/html": [
       "<div>\n",
       "<style scoped>\n",
       "    .dataframe tbody tr th:only-of-type {\n",
       "        vertical-align: middle;\n",
       "    }\n",
       "\n",
       "    .dataframe tbody tr th {\n",
       "        vertical-align: top;\n",
       "    }\n",
       "\n",
       "    .dataframe thead th {\n",
       "        text-align: right;\n",
       "    }\n",
       "</style>\n",
       "<table border=\"1\" class=\"dataframe\">\n",
       "  <thead>\n",
       "    <tr style=\"text-align: right;\">\n",
       "      <th></th>\n",
       "      <th>Unnamed: 0</th>\n",
       "      <th>2007</th>\n",
       "      <th>2008</th>\n",
       "      <th>2009</th>\n",
       "      <th>2010</th>\n",
       "      <th>2011</th>\n",
       "    </tr>\n",
       "  </thead>\n",
       "  <tbody>\n",
       "    <tr>\n",
       "      <th>0</th>\n",
       "      <td>China</td>\n",
       "      <td>7.71</td>\n",
       "      <td>7.95</td>\n",
       "      <td>11.96</td>\n",
       "      <td>15.84</td>\n",
       "      <td>16.33</td>\n",
       "    </tr>\n",
       "    <tr>\n",
       "      <th>1</th>\n",
       "      <td>EU</td>\n",
       "      <td>19.02</td>\n",
       "      <td>17.71</td>\n",
       "      <td>15.00</td>\n",
       "      <td>16.70</td>\n",
       "      <td>17.48</td>\n",
       "    </tr>\n",
       "    <tr>\n",
       "      <th>2</th>\n",
       "      <td>US</td>\n",
       "      <td>10.47</td>\n",
       "      <td>8.45</td>\n",
       "      <td>5.58</td>\n",
       "      <td>7.60</td>\n",
       "      <td>8.40</td>\n",
       "    </tr>\n",
       "    <tr>\n",
       "      <th>3</th>\n",
       "      <td>Japan</td>\n",
       "      <td>10.87</td>\n",
       "      <td>10.83</td>\n",
       "      <td>7.55</td>\n",
       "      <td>9.09</td>\n",
       "      <td>7.88</td>\n",
       "    </tr>\n",
       "    <tr>\n",
       "      <th>4</th>\n",
       "      <td>Korea</td>\n",
       "      <td>4.04</td>\n",
       "      <td>3.78</td>\n",
       "      <td>3.45</td>\n",
       "      <td>4.20</td>\n",
       "      <td>4.62</td>\n",
       "    </tr>\n",
       "  </tbody>\n",
       "</table>\n",
       "</div>"
      ],
      "text/plain": [
       "  Unnamed: 0   2007   2008   2009   2010   2011\n",
       "0      China   7.71   7.95  11.96  15.84  16.33\n",
       "1         EU  19.02  17.71  15.00  16.70  17.48\n",
       "2         US  10.47   8.45   5.58   7.60   8.40\n",
       "3      Japan  10.87  10.83   7.55   9.09   7.88\n",
       "4      Korea   4.04   3.78   3.45   4.20   4.62"
      ]
     },
     "execution_count": 114,
     "metadata": {},
     "output_type": "execute_result"
    }
   ],
   "source": [
    "car_df.head()"
   ]
  },
  {
   "cell_type": "code",
   "execution_count": 115,
   "id": "5984f0fc-8184-46ff-9e8d-3dfdc7bf409a",
   "metadata": {},
   "outputs": [],
   "source": [
    "car_df = pd.read_csv('./data/vehicle_prod.csv', index_col = 0) #행의 이름 지정"
   ]
  },
  {
   "cell_type": "code",
   "execution_count": 13,
   "id": "b5417b58-bc51-4c9f-b860-068dca927b14",
   "metadata": {},
   "outputs": [
    {
     "data": {
      "text/html": [
       "<div>\n",
       "<style scoped>\n",
       "    .dataframe tbody tr th:only-of-type {\n",
       "        vertical-align: middle;\n",
       "    }\n",
       "\n",
       "    .dataframe tbody tr th {\n",
       "        vertical-align: top;\n",
       "    }\n",
       "\n",
       "    .dataframe thead th {\n",
       "        text-align: right;\n",
       "    }\n",
       "</style>\n",
       "<table border=\"1\" class=\"dataframe\">\n",
       "  <thead>\n",
       "    <tr style=\"text-align: right;\">\n",
       "      <th></th>\n",
       "      <th>2007</th>\n",
       "      <th>2008</th>\n",
       "      <th>2009</th>\n",
       "      <th>2010</th>\n",
       "      <th>2011</th>\n",
       "    </tr>\n",
       "  </thead>\n",
       "  <tbody>\n",
       "    <tr>\n",
       "      <th>China</th>\n",
       "      <td>7.71</td>\n",
       "      <td>7.95</td>\n",
       "      <td>11.96</td>\n",
       "      <td>15.84</td>\n",
       "      <td>16.33</td>\n",
       "    </tr>\n",
       "    <tr>\n",
       "      <th>EU</th>\n",
       "      <td>19.02</td>\n",
       "      <td>17.71</td>\n",
       "      <td>15.00</td>\n",
       "      <td>16.70</td>\n",
       "      <td>17.48</td>\n",
       "    </tr>\n",
       "    <tr>\n",
       "      <th>US</th>\n",
       "      <td>10.47</td>\n",
       "      <td>8.45</td>\n",
       "      <td>5.58</td>\n",
       "      <td>7.60</td>\n",
       "      <td>8.40</td>\n",
       "    </tr>\n",
       "    <tr>\n",
       "      <th>Japan</th>\n",
       "      <td>10.87</td>\n",
       "      <td>10.83</td>\n",
       "      <td>7.55</td>\n",
       "      <td>9.09</td>\n",
       "      <td>7.88</td>\n",
       "    </tr>\n",
       "    <tr>\n",
       "      <th>Korea</th>\n",
       "      <td>4.04</td>\n",
       "      <td>3.78</td>\n",
       "      <td>3.45</td>\n",
       "      <td>4.20</td>\n",
       "      <td>4.62</td>\n",
       "    </tr>\n",
       "  </tbody>\n",
       "</table>\n",
       "</div>"
      ],
      "text/plain": [
       "        2007   2008   2009   2010   2011\n",
       "China   7.71   7.95  11.96  15.84  16.33\n",
       "EU     19.02  17.71  15.00  16.70  17.48\n",
       "US     10.47   8.45   5.58   7.60   8.40\n",
       "Japan  10.87  10.83   7.55   9.09   7.88\n",
       "Korea   4.04   3.78   3.45   4.20   4.62"
      ]
     },
     "execution_count": 13,
     "metadata": {},
     "output_type": "execute_result"
    }
   ],
   "source": [
    "car_df.head()"
   ]
  },
  {
   "cell_type": "code",
   "execution_count": 17,
   "id": "b5625920-a3b3-492b-80f8-9df451d75a57",
   "metadata": {},
   "outputs": [
    {
     "data": {
      "text/plain": [
       "Index(['2007', '2008', '2009', '2010', '2011'], dtype='object')"
      ]
     },
     "execution_count": 17,
     "metadata": {},
     "output_type": "execute_result"
    }
   ],
   "source": [
    "car_df.columns #열의 이름"
   ]
  },
  {
   "cell_type": "code",
   "execution_count": 18,
   "id": "4d376680-1a5a-4799-9a3f-32564de3edda",
   "metadata": {},
   "outputs": [
    {
     "data": {
      "text/plain": [
       "Index(['China', 'EU', 'US', 'Japan', 'Korea', 'Mexico'], dtype='object')"
      ]
     },
     "execution_count": 18,
     "metadata": {},
     "output_type": "execute_result"
    }
   ],
   "source": [
    "car_df.index #행의 이름"
   ]
  },
  {
   "cell_type": "code",
   "execution_count": 19,
   "id": "31c43f4e-fb5d-4437-92b9-021adb9485c6",
   "metadata": {},
   "outputs": [
    {
     "data": {
      "text/plain": [
       "China      7.71\n",
       "EU        19.02\n",
       "US        10.47\n",
       "Japan     10.87\n",
       "Korea      4.04\n",
       "Mexico     2.01\n",
       "Name: 2007, dtype: float64"
      ]
     },
     "execution_count": 19,
     "metadata": {},
     "output_type": "execute_result"
    }
   ],
   "source": [
    "# 2007년도의 각 나라 자동차 생산대 수?\n",
    "car_df['2007']"
   ]
  },
  {
   "cell_type": "code",
   "execution_count": 20,
   "id": "3fc25380-c8fd-4fdb-8bc5-25e48dd8b10f",
   "metadata": {},
   "outputs": [
    {
     "data": {
      "text/plain": [
       "['2007', '2008', '2009', '2010', '2011']"
      ]
     },
     "execution_count": 20,
     "metadata": {},
     "output_type": "execute_result"
    }
   ],
   "source": [
    "# 데이터프레임의 컬럼을 리스트로 변환\n",
    "car_df.columns.tolist()"
   ]
  },
  {
   "cell_type": "code",
   "execution_count": 21,
   "id": "f8db5780-8934-40cf-9c84-f0944141d1e6",
   "metadata": {},
   "outputs": [
    {
     "data": {
      "text/plain": [
       "[7.71, 19.02, 10.47, 10.87, 4.04, 2.01]"
      ]
     },
     "execution_count": 21,
     "metadata": {},
     "output_type": "execute_result"
    }
   ],
   "source": [
    "car_df['2007'].tolist()"
   ]
  },
  {
   "cell_type": "code",
   "execution_count": 24,
   "id": "c223f195-bead-453f-b7c0-f3019f94a9a5",
   "metadata": {},
   "outputs": [
    {
     "data": {
      "text/html": [
       "<div>\n",
       "<style scoped>\n",
       "    .dataframe tbody tr th:only-of-type {\n",
       "        vertical-align: middle;\n",
       "    }\n",
       "\n",
       "    .dataframe tbody tr th {\n",
       "        vertical-align: top;\n",
       "    }\n",
       "\n",
       "    .dataframe thead th {\n",
       "        text-align: right;\n",
       "    }\n",
       "</style>\n",
       "<table border=\"1\" class=\"dataframe\">\n",
       "  <thead>\n",
       "    <tr style=\"text-align: right;\">\n",
       "      <th></th>\n",
       "      <th>2007</th>\n",
       "      <th>2008</th>\n",
       "      <th>2009</th>\n",
       "      <th>2010</th>\n",
       "      <th>2011</th>\n",
       "      <th>Total</th>\n",
       "    </tr>\n",
       "  </thead>\n",
       "  <tbody>\n",
       "    <tr>\n",
       "      <th>China</th>\n",
       "      <td>7.71</td>\n",
       "      <td>7.95</td>\n",
       "      <td>11.96</td>\n",
       "      <td>15.84</td>\n",
       "      <td>16.33</td>\n",
       "      <td>59.79</td>\n",
       "    </tr>\n",
       "    <tr>\n",
       "      <th>EU</th>\n",
       "      <td>19.02</td>\n",
       "      <td>17.71</td>\n",
       "      <td>15.00</td>\n",
       "      <td>16.70</td>\n",
       "      <td>17.48</td>\n",
       "      <td>85.91</td>\n",
       "    </tr>\n",
       "    <tr>\n",
       "      <th>US</th>\n",
       "      <td>10.47</td>\n",
       "      <td>8.45</td>\n",
       "      <td>5.58</td>\n",
       "      <td>7.60</td>\n",
       "      <td>8.40</td>\n",
       "      <td>40.50</td>\n",
       "    </tr>\n",
       "    <tr>\n",
       "      <th>Japan</th>\n",
       "      <td>10.87</td>\n",
       "      <td>10.83</td>\n",
       "      <td>7.55</td>\n",
       "      <td>9.09</td>\n",
       "      <td>7.88</td>\n",
       "      <td>46.22</td>\n",
       "    </tr>\n",
       "    <tr>\n",
       "      <th>Korea</th>\n",
       "      <td>4.04</td>\n",
       "      <td>3.78</td>\n",
       "      <td>3.45</td>\n",
       "      <td>4.20</td>\n",
       "      <td>4.62</td>\n",
       "      <td>20.09</td>\n",
       "    </tr>\n",
       "    <tr>\n",
       "      <th>Mexico</th>\n",
       "      <td>2.01</td>\n",
       "      <td>2.05</td>\n",
       "      <td>1.50</td>\n",
       "      <td>2.25</td>\n",
       "      <td>2.54</td>\n",
       "      <td>10.35</td>\n",
       "    </tr>\n",
       "  </tbody>\n",
       "</table>\n",
       "</div>"
      ],
      "text/plain": [
       "         2007   2008   2009   2010   2011  Total\n",
       "China    7.71   7.95  11.96  15.84  16.33  59.79\n",
       "EU      19.02  17.71  15.00  16.70  17.48  85.91\n",
       "US      10.47   8.45   5.58   7.60   8.40  40.50\n",
       "Japan   10.87  10.83   7.55   9.09   7.88  46.22\n",
       "Korea    4.04   3.78   3.45   4.20   4.62  20.09\n",
       "Mexico   2.01   2.05   1.50   2.25   2.54  10.35"
      ]
     },
     "execution_count": 24,
     "metadata": {},
     "output_type": "execute_result"
    }
   ],
   "source": [
    "# Total 열 추가 : 각 국가별 총 판매 수\n",
    "car_df['Total'] = car_df.sum(axis = 1)\n",
    "car_df"
   ]
  },
  {
   "cell_type": "code",
   "execution_count": 60,
   "id": "140f322c-e06c-4dbd-8e3c-daa6f9ba3309",
   "metadata": {},
   "outputs": [
    {
     "data": {
      "text/html": [
       "<div>\n",
       "<style scoped>\n",
       "    .dataframe tbody tr th:only-of-type {\n",
       "        vertical-align: middle;\n",
       "    }\n",
       "\n",
       "    .dataframe tbody tr th {\n",
       "        vertical-align: top;\n",
       "    }\n",
       "\n",
       "    .dataframe thead th {\n",
       "        text-align: right;\n",
       "    }\n",
       "</style>\n",
       "<table border=\"1\" class=\"dataframe\">\n",
       "  <thead>\n",
       "    <tr style=\"text-align: right;\">\n",
       "      <th></th>\n",
       "      <th>2008</th>\n",
       "      <th>2009</th>\n",
       "      <th>2010</th>\n",
       "      <th>2011</th>\n",
       "      <th>Total</th>\n",
       "      <th>Mean</th>\n",
       "    </tr>\n",
       "  </thead>\n",
       "  <tbody>\n",
       "    <tr>\n",
       "      <th>China</th>\n",
       "      <td>7.95</td>\n",
       "      <td>11.96</td>\n",
       "      <td>15.84</td>\n",
       "      <td>16.33</td>\n",
       "      <td>52.08</td>\n",
       "      <td>19.53000</td>\n",
       "    </tr>\n",
       "    <tr>\n",
       "      <th>EU</th>\n",
       "      <td>17.71</td>\n",
       "      <td>15.00</td>\n",
       "      <td>16.70</td>\n",
       "      <td>17.48</td>\n",
       "      <td>66.89</td>\n",
       "      <td>25.08375</td>\n",
       "    </tr>\n",
       "    <tr>\n",
       "      <th>US</th>\n",
       "      <td>8.45</td>\n",
       "      <td>5.58</td>\n",
       "      <td>7.60</td>\n",
       "      <td>8.40</td>\n",
       "      <td>30.03</td>\n",
       "      <td>11.26125</td>\n",
       "    </tr>\n",
       "    <tr>\n",
       "      <th>Japan</th>\n",
       "      <td>10.83</td>\n",
       "      <td>7.55</td>\n",
       "      <td>9.09</td>\n",
       "      <td>7.88</td>\n",
       "      <td>35.35</td>\n",
       "      <td>13.25625</td>\n",
       "    </tr>\n",
       "    <tr>\n",
       "      <th>Korea</th>\n",
       "      <td>3.78</td>\n",
       "      <td>3.45</td>\n",
       "      <td>4.20</td>\n",
       "      <td>4.62</td>\n",
       "      <td>16.05</td>\n",
       "      <td>6.01875</td>\n",
       "    </tr>\n",
       "    <tr>\n",
       "      <th>Mexico</th>\n",
       "      <td>2.05</td>\n",
       "      <td>1.50</td>\n",
       "      <td>2.25</td>\n",
       "      <td>2.54</td>\n",
       "      <td>8.34</td>\n",
       "      <td>3.12750</td>\n",
       "    </tr>\n",
       "  </tbody>\n",
       "</table>\n",
       "</div>"
      ],
      "text/plain": [
       "         2008   2009   2010   2011  Total      Mean\n",
       "China    7.95  11.96  15.84  16.33  52.08  19.53000\n",
       "EU      17.71  15.00  16.70  17.48  66.89  25.08375\n",
       "US       8.45   5.58   7.60   8.40  30.03  11.26125\n",
       "Japan   10.83   7.55   9.09   7.88  35.35  13.25625\n",
       "Korea    3.78   3.45   4.20   4.62  16.05   6.01875\n",
       "Mexico   2.05   1.50   2.25   2.54   8.34   3.12750"
      ]
     },
     "execution_count": 60,
     "metadata": {},
     "output_type": "execute_result"
    }
   ],
   "source": [
    "# 각 나라의 총 판매 평균\n",
    "car_df['Mean'] = car_df.mean(axis=1)\n",
    "car_df"
   ]
  },
  {
   "cell_type": "code",
   "execution_count": 62,
   "id": "2b73f61c-8eb4-4c0f-863a-6aff8b03bf70",
   "metadata": {},
   "outputs": [],
   "source": [
    "col_list = car_df.columns.tolist()"
   ]
  },
  {
   "cell_type": "code",
   "execution_count": 99,
   "id": "a506ccd1-67a3-4e21-8a63-ecc0505813f8",
   "metadata": {},
   "outputs": [
    {
     "data": {
      "text/html": [
       "<div>\n",
       "<style scoped>\n",
       "    .dataframe tbody tr th:only-of-type {\n",
       "        vertical-align: middle;\n",
       "    }\n",
       "\n",
       "    .dataframe tbody tr th {\n",
       "        vertical-align: top;\n",
       "    }\n",
       "\n",
       "    .dataframe thead th {\n",
       "        text-align: right;\n",
       "    }\n",
       "</style>\n",
       "<table border=\"1\" class=\"dataframe\">\n",
       "  <thead>\n",
       "    <tr style=\"text-align: right;\">\n",
       "      <th></th>\n",
       "      <th>Unnamed: 0</th>\n",
       "      <th>2007</th>\n",
       "      <th>2008</th>\n",
       "      <th>2009</th>\n",
       "      <th>2010</th>\n",
       "      <th>2011</th>\n",
       "      <th>Mean</th>\n",
       "    </tr>\n",
       "  </thead>\n",
       "  <tbody>\n",
       "    <tr>\n",
       "      <th>0</th>\n",
       "      <td>China</td>\n",
       "      <td>7.71</td>\n",
       "      <td>7.95</td>\n",
       "      <td>11.96</td>\n",
       "      <td>15.84</td>\n",
       "      <td>16.33</td>\n",
       "      <td>11.958</td>\n",
       "    </tr>\n",
       "    <tr>\n",
       "      <th>1</th>\n",
       "      <td>EU</td>\n",
       "      <td>19.02</td>\n",
       "      <td>17.71</td>\n",
       "      <td>15.00</td>\n",
       "      <td>16.70</td>\n",
       "      <td>17.48</td>\n",
       "      <td>17.182</td>\n",
       "    </tr>\n",
       "    <tr>\n",
       "      <th>2</th>\n",
       "      <td>US</td>\n",
       "      <td>10.47</td>\n",
       "      <td>8.45</td>\n",
       "      <td>5.58</td>\n",
       "      <td>7.60</td>\n",
       "      <td>8.40</td>\n",
       "      <td>8.100</td>\n",
       "    </tr>\n",
       "    <tr>\n",
       "      <th>3</th>\n",
       "      <td>Japan</td>\n",
       "      <td>10.87</td>\n",
       "      <td>10.83</td>\n",
       "      <td>7.55</td>\n",
       "      <td>9.09</td>\n",
       "      <td>7.88</td>\n",
       "      <td>9.244</td>\n",
       "    </tr>\n",
       "    <tr>\n",
       "      <th>4</th>\n",
       "      <td>Korea</td>\n",
       "      <td>4.04</td>\n",
       "      <td>3.78</td>\n",
       "      <td>3.45</td>\n",
       "      <td>4.20</td>\n",
       "      <td>4.62</td>\n",
       "      <td>4.018</td>\n",
       "    </tr>\n",
       "    <tr>\n",
       "      <th>5</th>\n",
       "      <td>Mexico</td>\n",
       "      <td>2.01</td>\n",
       "      <td>2.05</td>\n",
       "      <td>1.50</td>\n",
       "      <td>2.25</td>\n",
       "      <td>2.54</td>\n",
       "      <td>2.070</td>\n",
       "    </tr>\n",
       "  </tbody>\n",
       "</table>\n",
       "</div>"
      ],
      "text/plain": [
       "  Unnamed: 0   2007   2008   2009   2010   2011    Mean\n",
       "0      China   7.71   7.95  11.96  15.84  16.33  11.958\n",
       "1         EU  19.02  17.71  15.00  16.70  17.48  17.182\n",
       "2         US  10.47   8.45   5.58   7.60   8.40   8.100\n",
       "3      Japan  10.87  10.83   7.55   9.09   7.88   9.244\n",
       "4      Korea   4.04   3.78   3.45   4.20   4.62   4.018\n",
       "5     Mexico   2.01   2.05   1.50   2.25   2.54   2.070"
      ]
     },
     "execution_count": 99,
     "metadata": {},
     "output_type": "execute_result"
    }
   ],
   "source": [
    "car_df['Mean'] = car_df[['2007', '2008', '2009', '2010', '2011']].mean(axis=1)\n",
    "car_df"
   ]
  },
  {
   "cell_type": "code",
   "execution_count": 76,
   "id": "5a329231-4dd9-43e7-a455-93b41b76c1d8",
   "metadata": {},
   "outputs": [
    {
     "name": "stdout",
     "output_type": "stream",
     "text": [
      "  Unnamed: 0   2008   2009   2010   2011\n",
      "0      China   7.95  11.96  15.84  16.33\n",
      "1         EU  17.71  15.00  16.70  17.48\n",
      "2         US   8.45   5.58   7.60   8.40\n",
      "3      Japan  10.83   7.55   9.09   7.88\n",
      "4      Korea   3.78   3.45   4.20   4.62\n",
      "5     Mexico   2.05   1.50   2.25   2.54\n"
     ]
    }
   ],
   "source": [
    "# 행열 조작: 행 또는 열 삭제\n",
    "car_df.drop('2007', inplace = True, axis = 1)\n",
    "print(car_df)"
   ]
  },
  {
   "cell_type": "code",
   "execution_count": 65,
   "id": "ac678c87-c557-4c14-9d33-23bd0313671e",
   "metadata": {},
   "outputs": [
    {
     "name": "stdout",
     "output_type": "stream",
     "text": [
      "         2008   2009   2010   2011  Total     Mean\n",
      "China    7.95  11.96  15.84  16.33  52.08  13.0200\n",
      "EU      17.71  15.00  16.70  17.48  66.89  16.7225\n",
      "US       8.45   5.58   7.60   8.40  30.03   7.5075\n",
      "Japan   10.83   7.55   9.09   7.88  35.35   8.8375\n",
      "Korea    3.78   3.45   4.20   4.62  16.05   4.0125\n",
      "Mexico   2.05   1.50   2.25   2.54   8.34   2.0850\n"
     ]
    }
   ],
   "source": [
    "print(car_df)"
   ]
  },
  {
   "cell_type": "code",
   "execution_count": 66,
   "id": "c0014e76-cfde-43ee-af74-819156dbaf35",
   "metadata": {},
   "outputs": [
    {
     "data": {
      "text/html": [
       "<div>\n",
       "<style scoped>\n",
       "    .dataframe tbody tr th:only-of-type {\n",
       "        vertical-align: middle;\n",
       "    }\n",
       "\n",
       "    .dataframe tbody tr th {\n",
       "        vertical-align: top;\n",
       "    }\n",
       "\n",
       "    .dataframe thead th {\n",
       "        text-align: right;\n",
       "    }\n",
       "</style>\n",
       "<table border=\"1\" class=\"dataframe\">\n",
       "  <thead>\n",
       "    <tr style=\"text-align: right;\">\n",
       "      <th></th>\n",
       "      <th>2008</th>\n",
       "      <th>2009</th>\n",
       "      <th>2010</th>\n",
       "      <th>2011</th>\n",
       "      <th>Total</th>\n",
       "      <th>Mean</th>\n",
       "    </tr>\n",
       "  </thead>\n",
       "  <tbody>\n",
       "    <tr>\n",
       "      <th>China</th>\n",
       "      <td>7.95</td>\n",
       "      <td>11.96</td>\n",
       "      <td>15.84</td>\n",
       "      <td>16.33</td>\n",
       "      <td>52.08</td>\n",
       "      <td>13.0200</td>\n",
       "    </tr>\n",
       "    <tr>\n",
       "      <th>EU</th>\n",
       "      <td>17.71</td>\n",
       "      <td>15.00</td>\n",
       "      <td>16.70</td>\n",
       "      <td>17.48</td>\n",
       "      <td>66.89</td>\n",
       "      <td>16.7225</td>\n",
       "    </tr>\n",
       "    <tr>\n",
       "      <th>US</th>\n",
       "      <td>8.45</td>\n",
       "      <td>5.58</td>\n",
       "      <td>7.60</td>\n",
       "      <td>8.40</td>\n",
       "      <td>30.03</td>\n",
       "      <td>7.5075</td>\n",
       "    </tr>\n",
       "    <tr>\n",
       "      <th>Japan</th>\n",
       "      <td>10.83</td>\n",
       "      <td>7.55</td>\n",
       "      <td>9.09</td>\n",
       "      <td>7.88</td>\n",
       "      <td>35.35</td>\n",
       "      <td>8.8375</td>\n",
       "    </tr>\n",
       "    <tr>\n",
       "      <th>Korea</th>\n",
       "      <td>3.78</td>\n",
       "      <td>3.45</td>\n",
       "      <td>4.20</td>\n",
       "      <td>4.62</td>\n",
       "      <td>16.05</td>\n",
       "      <td>4.0125</td>\n",
       "    </tr>\n",
       "    <tr>\n",
       "      <th>Mexico</th>\n",
       "      <td>2.05</td>\n",
       "      <td>1.50</td>\n",
       "      <td>2.25</td>\n",
       "      <td>2.54</td>\n",
       "      <td>8.34</td>\n",
       "      <td>2.0850</td>\n",
       "    </tr>\n",
       "  </tbody>\n",
       "</table>\n",
       "</div>"
      ],
      "text/plain": [
       "         2008   2009   2010   2011  Total     Mean\n",
       "China    7.95  11.96  15.84  16.33  52.08  13.0200\n",
       "EU      17.71  15.00  16.70  17.48  66.89  16.7225\n",
       "US       8.45   5.58   7.60   8.40  30.03   7.5075\n",
       "Japan   10.83   7.55   9.09   7.88  35.35   8.8375\n",
       "Korea    3.78   3.45   4.20   4.62  16.05   4.0125\n",
       "Mexico   2.05   1.50   2.25   2.54   8.34   2.0850"
      ]
     },
     "execution_count": 66,
     "metadata": {},
     "output_type": "execute_result"
    }
   ],
   "source": [
    "car_df['Total'] = car_df[['2008','2009','2010','2011']].sum(axis = 1)\n",
    "car_df['Mean'] = car_df[['2008','2009','2010','2011']].mean(axis = 1)\n",
    "car_df"
   ]
  },
  {
   "cell_type": "code",
   "execution_count": 68,
   "id": "70d0abd8-1ffe-482c-b801-d36f869db663",
   "metadata": {},
   "outputs": [],
   "source": [
    "#car_df.drop('2007', inplace = True, axis = 1)\n",
    "# inplace = True => 적용된 원 데이터프레임을 갱신\n",
    "# inplace = False => 기존 데이터프레임을 그대로 두고 갱신된 데이터프레임 반환"
   ]
  },
  {
   "cell_type": "code",
   "execution_count": 116,
   "id": "c10f2976-bde3-4320-8030-8e7f3a25faf8",
   "metadata": {},
   "outputs": [
    {
     "data": {
      "text/html": [
       "<div>\n",
       "<style scoped>\n",
       "    .dataframe tbody tr th:only-of-type {\n",
       "        vertical-align: middle;\n",
       "    }\n",
       "\n",
       "    .dataframe tbody tr th {\n",
       "        vertical-align: top;\n",
       "    }\n",
       "\n",
       "    .dataframe thead th {\n",
       "        text-align: right;\n",
       "    }\n",
       "</style>\n",
       "<table border=\"1\" class=\"dataframe\">\n",
       "  <thead>\n",
       "    <tr style=\"text-align: right;\">\n",
       "      <th></th>\n",
       "      <th>2007</th>\n",
       "      <th>2008</th>\n",
       "      <th>2009</th>\n",
       "      <th>2010</th>\n",
       "      <th>2011</th>\n",
       "    </tr>\n",
       "  </thead>\n",
       "  <tbody>\n",
       "    <tr>\n",
       "      <th>China</th>\n",
       "      <td>7.71</td>\n",
       "      <td>7.95</td>\n",
       "      <td>11.96</td>\n",
       "      <td>15.84</td>\n",
       "      <td>16.33</td>\n",
       "    </tr>\n",
       "    <tr>\n",
       "      <th>EU</th>\n",
       "      <td>19.02</td>\n",
       "      <td>17.71</td>\n",
       "      <td>15.00</td>\n",
       "      <td>16.70</td>\n",
       "      <td>17.48</td>\n",
       "    </tr>\n",
       "    <tr>\n",
       "      <th>US</th>\n",
       "      <td>10.47</td>\n",
       "      <td>8.45</td>\n",
       "      <td>5.58</td>\n",
       "      <td>7.60</td>\n",
       "      <td>8.40</td>\n",
       "    </tr>\n",
       "    <tr>\n",
       "      <th>Japan</th>\n",
       "      <td>10.87</td>\n",
       "      <td>10.83</td>\n",
       "      <td>7.55</td>\n",
       "      <td>9.09</td>\n",
       "      <td>7.88</td>\n",
       "    </tr>\n",
       "    <tr>\n",
       "      <th>Korea</th>\n",
       "      <td>4.04</td>\n",
       "      <td>3.78</td>\n",
       "      <td>3.45</td>\n",
       "      <td>4.20</td>\n",
       "      <td>4.62</td>\n",
       "    </tr>\n",
       "  </tbody>\n",
       "</table>\n",
       "</div>"
      ],
      "text/plain": [
       "        2007   2008   2009   2010   2011\n",
       "China   7.71   7.95  11.96  15.84  16.33\n",
       "EU     19.02  17.71  15.00  16.70  17.48\n",
       "US     10.47   8.45   5.58   7.60   8.40\n",
       "Japan  10.87  10.83   7.55   9.09   7.88\n",
       "Korea   4.04   3.78   3.45   4.20   4.62"
      ]
     },
     "execution_count": 116,
     "metadata": {},
     "output_type": "execute_result"
    }
   ],
   "source": [
    "# Q1. Mexico 삭제 후 원 데이터 갱신\n",
    "car_df.drop('Mexico', inplace = True, axis = 0)\n",
    "car_df"
   ]
  },
  {
   "cell_type": "markdown",
   "id": "0fe20ac6-d809-4248-b324-8f383b7db6ec",
   "metadata": {},
   "source": [
    "# p.202 : 데이터 시각화"
   ]
  },
  {
   "cell_type": "code",
   "execution_count": 81,
   "id": "3c07dd7e-3fdc-4b00-8ca8-2e21a333672d",
   "metadata": {},
   "outputs": [],
   "source": [
    "#데이터 읽어오기\n",
    "vdf_idx = pd.read_csv('./data/vehicle_prod.csv', index_col = 0)\n",
    "vdf = pd.read_csv('./data/vehicle_prod.csv')"
   ]
  },
  {
   "cell_type": "code",
   "execution_count": 82,
   "id": "662e0430-a209-4bff-b5a1-c0cb99352d25",
   "metadata": {},
   "outputs": [
    {
     "data": {
      "text/plain": [
       "(  Unnamed: 0   2007   2008   2009   2010   2011\n",
       " 0      China   7.71   7.95  11.96  15.84  16.33\n",
       " 1         EU  19.02  17.71  15.00  16.70  17.48\n",
       " 2         US  10.47   8.45   5.58   7.60   8.40\n",
       " 3      Japan  10.87  10.83   7.55   9.09   7.88\n",
       " 4      Korea   4.04   3.78   3.45   4.20   4.62\n",
       " 5     Mexico   2.01   2.05   1.50   2.25   2.54,\n",
       "          2007   2008   2009   2010   2011\n",
       " China    7.71   7.95  11.96  15.84  16.33\n",
       " EU      19.02  17.71  15.00  16.70  17.48\n",
       " US      10.47   8.45   5.58   7.60   8.40\n",
       " Japan   10.87  10.83   7.55   9.09   7.88\n",
       " Korea    4.04   3.78   3.45   4.20   4.62\n",
       " Mexico   2.01   2.05   1.50   2.25   2.54)"
      ]
     },
     "execution_count": 82,
     "metadata": {},
     "output_type": "execute_result"
    }
   ],
   "source": [
    "vdf, vdf_idx"
   ]
  },
  {
   "cell_type": "code",
   "execution_count": 83,
   "id": "e68059ba-43cc-4856-9237-db6544812921",
   "metadata": {},
   "outputs": [
    {
     "name": "stdout",
     "output_type": "stream",
     "text": [
      "         2007   2008   2009\n",
      "China    7.71   7.95  11.96\n",
      "EU      19.02  17.71  15.00\n",
      "US      10.47   8.45   5.58\n",
      "Japan   10.87  10.83   7.55\n",
      "Korea    4.04   3.78   3.45\n",
      "Mexico   2.01   2.05   1.50\n"
     ]
    }
   ],
   "source": [
    "print(vdf_idx[['2007', '2008', '2009']])"
   ]
  },
  {
   "cell_type": "code",
   "execution_count": 87,
   "id": "5f75c96b-5593-4fdf-a338-2969d853c833",
   "metadata": {},
   "outputs": [
    {
     "data": {
      "text/plain": [
       "<Axes: >"
      ]
     },
     "execution_count": 87,
     "metadata": {},
     "output_type": "execute_result"
    },
    {
     "data": {
      "image/png": "[encoded data removed]",
      "text/plain": [
       "<Figure size 640x480 with 1 Axes>"
      ]
     },
     "metadata": {},
     "output_type": "display_data"
    }
   ],
   "source": [
    "vdf_idx['2009'].plot(kind='bar', color = ('red', 'yellow', 'green', 'blue', 'purple', 'pink'))"
   ]
  },
  {
   "cell_type": "code",
   "execution_count": 91,
   "id": "9c9d41d9-c5a7-4ddb-a181-60babea29473",
   "metadata": {},
   "outputs": [
    {
     "data": {
      "text/plain": [
       "<Axes: ylabel='2009'>"
      ]
     },
     "execution_count": 91,
     "metadata": {},
     "output_type": "execute_result"
    },
    {
     "data": {
      "image/png": "[encoded data removed]",
      "text/plain": [
       "<Figure size 640x480 with 1 Axes>"
      ]
     },
     "metadata": {},
     "output_type": "display_data"
    }
   ],
   "source": [
    "vdf_idx['2009'].plot(kind='pie')"
   ]
  },
  {
   "cell_type": "code",
   "execution_count": 93,
   "id": "e617b98a-c16d-49e9-be64-4a7852385f3d",
   "metadata": {},
   "outputs": [
    {
     "data": {
      "text/plain": [
       "<Axes: >"
      ]
     },
     "execution_count": 93,
     "metadata": {},
     "output_type": "execute_result"
    },
    {
     "data": {
      "image/png": "[encoded data removed]",
      "text/plain": [
       "<Figure size 640x480 with 1 Axes>"
      ]
     },
     "metadata": {},
     "output_type": "display_data"
    }
   ],
   "source": [
    "vdf_idx.plot.line()"
   ]
  },
  {
   "cell_type": "code",
   "execution_count": 94,
   "id": "754c4a0e-fd45-457c-940f-4e7734baf8a9",
   "metadata": {},
   "outputs": [
    {
     "data": {
      "text/plain": [
       "<Axes: >"
      ]
     },
     "execution_count": 94,
     "metadata": {},
     "output_type": "execute_result"
    },
    {
     "data": {
      "image/png": "[encoded data removed]",
      "text/plain": [
       "<Figure size 640x480 with 1 Axes>"
      ]
     },
     "metadata": {},
     "output_type": "display_data"
    }
   ],
   "source": [
    "vdf_idx.plot.bar()"
   ]
  },
  {
   "cell_type": "code",
   "execution_count": 95,
   "id": "f0ee229c-538f-41b1-9b8a-f845f0f7fd99",
   "metadata": {},
   "outputs": [
    {
     "data": {
      "text/html": [
       "<div>\n",
       "<style scoped>\n",
       "    .dataframe tbody tr th:only-of-type {\n",
       "        vertical-align: middle;\n",
       "    }\n",
       "\n",
       "    .dataframe tbody tr th {\n",
       "        vertical-align: top;\n",
       "    }\n",
       "\n",
       "    .dataframe thead th {\n",
       "        text-align: right;\n",
       "    }\n",
       "</style>\n",
       "<table border=\"1\" class=\"dataframe\">\n",
       "  <thead>\n",
       "    <tr style=\"text-align: right;\">\n",
       "      <th></th>\n",
       "      <th>China</th>\n",
       "      <th>EU</th>\n",
       "      <th>US</th>\n",
       "      <th>Japan</th>\n",
       "      <th>Korea</th>\n",
       "      <th>Mexico</th>\n",
       "    </tr>\n",
       "  </thead>\n",
       "  <tbody>\n",
       "    <tr>\n",
       "      <th>2007</th>\n",
       "      <td>7.71</td>\n",
       "      <td>19.02</td>\n",
       "      <td>10.47</td>\n",
       "      <td>10.87</td>\n",
       "      <td>4.04</td>\n",
       "      <td>2.01</td>\n",
       "    </tr>\n",
       "    <tr>\n",
       "      <th>2008</th>\n",
       "      <td>7.95</td>\n",
       "      <td>17.71</td>\n",
       "      <td>8.45</td>\n",
       "      <td>10.83</td>\n",
       "      <td>3.78</td>\n",
       "      <td>2.05</td>\n",
       "    </tr>\n",
       "    <tr>\n",
       "      <th>2009</th>\n",
       "      <td>11.96</td>\n",
       "      <td>15.00</td>\n",
       "      <td>5.58</td>\n",
       "      <td>7.55</td>\n",
       "      <td>3.45</td>\n",
       "      <td>1.50</td>\n",
       "    </tr>\n",
       "    <tr>\n",
       "      <th>2010</th>\n",
       "      <td>15.84</td>\n",
       "      <td>16.70</td>\n",
       "      <td>7.60</td>\n",
       "      <td>9.09</td>\n",
       "      <td>4.20</td>\n",
       "      <td>2.25</td>\n",
       "    </tr>\n",
       "    <tr>\n",
       "      <th>2011</th>\n",
       "      <td>16.33</td>\n",
       "      <td>17.48</td>\n",
       "      <td>8.40</td>\n",
       "      <td>7.88</td>\n",
       "      <td>4.62</td>\n",
       "      <td>2.54</td>\n",
       "    </tr>\n",
       "  </tbody>\n",
       "</table>\n",
       "</div>"
      ],
      "text/plain": [
       "      China     EU     US  Japan  Korea  Mexico\n",
       "2007   7.71  19.02  10.47  10.87   4.04    2.01\n",
       "2008   7.95  17.71   8.45  10.83   3.78    2.05\n",
       "2009  11.96  15.00   5.58   7.55   3.45    1.50\n",
       "2010  15.84  16.70   7.60   9.09   4.20    2.25\n",
       "2011  16.33  17.48   8.40   7.88   4.62    2.54"
      ]
     },
     "execution_count": 95,
     "metadata": {},
     "output_type": "execute_result"
    }
   ],
   "source": [
    "vdf_idx_t = vdf_idx.transpose()\n",
    "vdf_idx_t"
   ]
  },
  {
   "cell_type": "code",
   "execution_count": 96,
   "id": "2aaf2d64-182b-4131-b64d-4687369c5a02",
   "metadata": {},
   "outputs": [
    {
     "data": {
      "text/plain": [
       "<Axes: >"
      ]
     },
     "execution_count": 96,
     "metadata": {},
     "output_type": "execute_result"
    },
    {
     "data": {
      "image/png": "[encoded data removed]",
      "text/plain": [
       "<Figure size 640x480 with 1 Axes>"
      ]
     },
     "metadata": {},
     "output_type": "display_data"
    }
   ],
   "source": [
    "vdf_idx_t.plot.line()"
   ]
  },
  {
   "cell_type": "code",
   "execution_count": null,
   "id": "5c6a991e-4bc2-403d-b83e-6883fb32ae0c",
   "metadata": {},
   "outputs": [],
   "source": []
  }
 ],
 "metadata": {
  "kernelspec": {
   "display_name": "Python 3 (ipykernel)",
   "language": "python",
   "name": "python3"
  },
  "language_info": {
   "codemirror_mode": {
    "name": "ipython",
    "version": 3
   },
   "file_extension": ".py",
   "mimetype": "text/x-python",
   "name": "python",
   "nbconvert_exporter": "python",
   "pygments_lexer": "ipython3",
   "version": "3.12.7"
  }
 },
 "nbformat": 4,
 "nbformat_minor": 5
}
