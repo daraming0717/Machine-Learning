{
 "cells": [
  {
   "cell_type": "markdown",
   "id": "e60faa14-e7d2-42de-8a13-784ed1e49895",
   "metadata": {},
   "source": [
    "# 2025.03.18"
   ]
  },
  {
   "cell_type": "code",
   "execution_count": 1,
   "id": "55b6cc22-a584-4125-ad69-3dd04a0f55d1",
   "metadata": {},
   "outputs": [],
   "source": [
    "import numpy as np"
   ]
  },
  {
   "cell_type": "code",
   "execution_count": 2,
   "id": "fd3b6e80-662e-4355-a194-57953d3faebb",
   "metadata": {},
   "outputs": [],
   "source": [
    "a = np.array([1, 2, 3])\n"
   ]
  },
  {
   "cell_type": "code",
   "execution_count": 3,
   "id": "f188637a-e2af-484a-a619-4ca231b31df0",
   "metadata": {},
   "outputs": [
    {
     "data": {
      "text/plain": [
       "array([2, 3])"
      ]
     },
     "execution_count": 3,
     "metadata": {},
     "output_type": "execute_result"
    }
   ],
   "source": [
    "a[1:]"
   ]
  },
  {
   "cell_type": "code",
   "execution_count": 4,
   "id": "c9250fc5-5167-4b65-b600-5b39bfbc37c3",
   "metadata": {},
   "outputs": [
    {
     "data": {
      "text/plain": [
       "array([1, 2])"
      ]
     },
     "execution_count": 4,
     "metadata": {},
     "output_type": "execute_result"
    }
   ],
   "source": [
    "a[0:2]"
   ]
  },
  {
   "cell_type": "code",
   "execution_count": 7,
   "id": "d457d3c5-1347-45e4-bde6-9e5d192dbb85",
   "metadata": {},
   "outputs": [],
   "source": [
    "a = np.array([[1, 2, 3, 4],\n",
    "             [5, 6, 7, 8],\n",
    "             [9, 10, 11, 12]])"
   ]
  },
  {
   "cell_type": "code",
   "execution_count": 8,
   "id": "320fc714-9915-452c-ad5a-433a85bafb4f",
   "metadata": {},
   "outputs": [],
   "source": [
    "# Q1: [[2, 3], [6, 7]]\n",
    "# Q2: [[6, 7], [10, 11]]"
   ]
  },
  {
   "cell_type": "code",
   "execution_count": 11,
   "id": "2fae649a-afc2-4867-8175-059e0a9dcbec",
   "metadata": {},
   "outputs": [
    {
     "data": {
      "text/plain": [
       "array([[2, 3],\n",
       "       [6, 7]])"
      ]
     },
     "execution_count": 11,
     "metadata": {},
     "output_type": "execute_result"
    }
   ],
   "source": [
    "# A1:\n",
    "a[0:2, 1:3]"
   ]
  },
  {
   "cell_type": "code",
   "execution_count": 16,
   "id": "3878aec4-9785-4fa2-a794-2a1dfc71baec",
   "metadata": {},
   "outputs": [
    {
     "data": {
      "text/plain": [
       "array([[ 6,  7],\n",
       "       [10, 11]])"
      ]
     },
     "execution_count": 16,
     "metadata": {},
     "output_type": "execute_result"
    }
   ],
   "source": [
    "# A2:\n",
    "a[1:, 1:3]"
   ]
  },
  {
   "cell_type": "code",
   "execution_count": 18,
   "id": "f0464839-6c76-4b30-979a-e182f60c37bf",
   "metadata": {},
   "outputs": [
    {
     "data": {
      "text/plain": [
       "array([[[ 0,  1,  2],\n",
       "        [ 3,  4,  5],\n",
       "        [ 6,  7,  8],\n",
       "        [ 9, 10, 11]],\n",
       "\n",
       "       [[12, 13, 14],\n",
       "        [15, 16, 17],\n",
       "        [18, 19, 20],\n",
       "        [21, 22, 23]],\n",
       "\n",
       "       [[24, 25, 26],\n",
       "        [27, 28, 29],\n",
       "        [30, 31, 32],\n",
       "        [33, 34, 35]]])"
      ]
     },
     "execution_count": 18,
     "metadata": {},
     "output_type": "execute_result"
    }
   ],
   "source": [
    "# 3차원:(깊이, 행, 열)\n",
    "z = np.arange(36).reshape(3,4,3)\n",
    "z"
   ]
  },
  {
   "cell_type": "code",
   "execution_count": 19,
   "id": "fba9713c-774b-4673-b72f-67a1150e2c20",
   "metadata": {},
   "outputs": [
    {
     "data": {
      "text/plain": [
       "array([[13, 14],\n",
       "       [16, 17]])"
      ]
     },
     "execution_count": 19,
     "metadata": {},
     "output_type": "execute_result"
    }
   ],
   "source": [
    "z[1, 0:2, 1:]"
   ]
  },
  {
   "cell_type": "code",
   "execution_count": 21,
   "id": "25cc4926-cac3-4cb1-8c4a-fd80b1a8b16c",
   "metadata": {},
   "outputs": [
    {
     "data": {
      "text/plain": [
       "array([[30, 31, 32],\n",
       "       [33, 34, 35]])"
      ]
     },
     "execution_count": 21,
     "metadata": {},
     "output_type": "execute_result"
    }
   ],
   "source": [
    "z[2, 2:, 0:]"
   ]
  },
  {
   "cell_type": "code",
   "execution_count": 23,
   "id": "59b07fc2-ffb4-46cb-8070-2e5283124211",
   "metadata": {},
   "outputs": [
    {
     "data": {
      "text/plain": [
       "78"
      ]
     },
     "execution_count": 23,
     "metadata": {},
     "output_type": "execute_result"
    }
   ],
   "source": [
    "sum_a = np.sum(a)\n",
    "sum_a"
   ]
  },
  {
   "cell_type": "code",
   "execution_count": 24,
   "id": "e5b91983-ed4c-4f4a-b6d3-327579c0dce7",
   "metadata": {},
   "outputs": [
    {
     "data": {
      "text/plain": [
       "array([15, 18, 21, 24])"
      ]
     },
     "execution_count": 24,
     "metadata": {},
     "output_type": "execute_result"
    }
   ],
   "source": [
    "sum_axis0 = np.sum(a, axis = 0)\n",
    "sum_axis0"
   ]
  },
  {
   "cell_type": "code",
   "execution_count": 25,
   "id": "2bb02e6d-c3b4-431e-b910-8555df2605fd",
   "metadata": {},
   "outputs": [
    {
     "data": {
      "text/plain": [
       "array([10, 26, 42])"
      ]
     },
     "execution_count": 25,
     "metadata": {},
     "output_type": "execute_result"
    }
   ],
   "source": [
    "sum_axis1 = np.sum(a, axis = 1)\n",
    "sum_axis1"
   ]
  },
  {
   "cell_type": "code",
   "execution_count": 30,
   "id": "f600847a-58a7-4a19-b87e-98b61d7d5891",
   "metadata": {},
   "outputs": [
    {
     "data": {
      "text/plain": [
       "630"
      ]
     },
     "execution_count": 30,
     "metadata": {},
     "output_type": "execute_result"
    }
   ],
   "source": [
    "## 3차원 원소의 합\n",
    "sum_z = np.sum(z)\n",
    "sum_z"
   ]
  },
  {
   "cell_type": "code",
   "execution_count": 33,
   "id": "53f4d9b5-13fe-4fed-841b-b930fc24b6dc",
   "metadata": {},
   "outputs": [
    {
     "data": {
      "text/plain": [
       "array([[  3,  12,  21,  30],\n",
       "       [ 39,  48,  57,  66],\n",
       "       [ 75,  84,  93, 102]])"
      ]
     },
     "execution_count": 33,
     "metadata": {},
     "output_type": "execute_result"
    }
   ],
   "source": [
    "sum_z2 = np.sum(z, axis = 2)\n",
    "sum_z2"
   ]
  },
  {
   "cell_type": "code",
   "execution_count": 32,
   "id": "4aeb0bfb-703d-4af1-9eb8-1c215d2d3ab7",
   "metadata": {},
   "outputs": [
    {
     "data": {
      "text/plain": [
       "(3, 4)"
      ]
     },
     "execution_count": 32,
     "metadata": {},
     "output_type": "execute_result"
    }
   ],
   "source": [
    "sum_z2.shape"
   ]
  },
  {
   "cell_type": "code",
   "execution_count": 35,
   "id": "36d3069b-18e9-436c-850c-107aa4eb93da",
   "metadata": {},
   "outputs": [
    {
     "name": "stdout",
     "output_type": "stream",
     "text": [
      "(4, 3) [[36 39 42]\n",
      " [45 48 51]\n",
      " [54 57 60]\n",
      " [63 66 69]]\n"
     ]
    }
   ],
   "source": [
    "# axis = 0\n",
    "sum_z0 = np.sum(z, axis=0)\n",
    "print(sum_z0.shape, sum_z0)"
   ]
  },
  {
   "cell_type": "code",
   "execution_count": 36,
   "id": "b6a3cab2-4642-43bf-8852-93fa86ba828c",
   "metadata": {},
   "outputs": [
    {
     "name": "stdout",
     "output_type": "stream",
     "text": [
      "(3, 3) [[ 18  22  26]\n",
      " [ 66  70  74]\n",
      " [114 118 122]]\n"
     ]
    }
   ],
   "source": [
    "# axis = 1\n",
    "sum_z1 = np.sum(z, axis=1)\n",
    "print(sum_z1.shape, sum_z1)"
   ]
  },
  {
   "cell_type": "code",
   "execution_count": 40,
   "id": "22852525-de1c-48c5-a87a-7d3e4d4d0e44",
   "metadata": {},
   "outputs": [
    {
     "data": {
      "text/plain": [
       "array([0.60350382, 0.26747783, 0.87483395, 0.05139607, 0.92378991])"
      ]
     },
     "execution_count": 40,
     "metadata": {},
     "output_type": "execute_result"
    }
   ],
   "source": [
    "# 난수 (random)\n",
    "np.random.rand(5) # 실수0~1"
   ]
  },
  {
   "cell_type": "code",
   "execution_count": 42,
   "id": "c0c62a58-4b96-4d57-9da3-666c4ef8c49f",
   "metadata": {},
   "outputs": [
    {
     "data": {
      "text/plain": [
       "array([169, 194, 191, 199, 169])"
      ]
     },
     "execution_count": 42,
     "metadata": {},
     "output_type": "execute_result"
    }
   ],
   "source": [
    "np.random.randint(150, 200, size = 5)"
   ]
  },
  {
   "cell_type": "code",
   "execution_count": 43,
   "id": "f77c6317-8a42-4714-bb35-fdda8bd94649",
   "metadata": {},
   "outputs": [
    {
     "data": {
      "text/plain": [
       "array([158.16815786, 157.44221053, 162.16086752, 159.19909839,\n",
       "       174.64754053])"
      ]
     },
     "execution_count": 43,
     "metadata": {},
     "output_type": "execute_result"
    }
   ],
   "source": [
    "# 평균값이 165, 표준편차가 10인 값을 5개 생성\n",
    "# 표준정규분포 : 평균이 0, 표준편차가 1인 데이터의 분포\n",
    "rnd = np.random.randn(5) * 10 + 165\n",
    "rnd"
   ]
  },
  {
   "cell_type": "code",
   "execution_count": 44,
   "id": "028a220e-f05d-4c96-a62b-7921c461e560",
   "metadata": {},
   "outputs": [
    {
     "data": {
      "text/plain": [
       "array([158.17, 157.44, 162.16, 159.2 , 174.65])"
      ]
     },
     "execution_count": 44,
     "metadata": {},
     "output_type": "execute_result"
    }
   ],
   "source": [
    "rnd.round(2)"
   ]
  },
  {
   "cell_type": "code",
   "execution_count": 45,
   "id": "9e51a595-b4fa-4ae4-ad0d-7daf81b0090e",
   "metadata": {},
   "outputs": [
    {
     "data": {
      "text/plain": [
       "array([158.2, 157.4, 162.2, 159.2, 174.6])"
      ]
     },
     "execution_count": 45,
     "metadata": {},
     "output_type": "execute_result"
    }
   ],
   "source": [
    "rnd.round(1)"
   ]
  },
  {
   "cell_type": "code",
   "execution_count": 47,
   "id": "a55fcd79-1643-4365-830a-f7cc8b9fa01a",
   "metadata": {},
   "outputs": [
    {
     "data": {
      "text/plain": [
       "array([158, 157, 162, 159, 174])"
      ]
     },
     "execution_count": 47,
     "metadata": {},
     "output_type": "execute_result"
    }
   ],
   "source": [
    "#정수형 변환\n",
    "rnd.astype(int)"
   ]
  },
  {
   "cell_type": "code",
   "execution_count": 50,
   "id": "18d5fae1-a13a-4cab-910d-16e7f9f8e536",
   "metadata": {},
   "outputs": [
    {
     "data": {
      "text/plain": [
       "array([[164.12, 172.17, 175.85, 164.49],\n",
       "       [175.63, 160.05, 162.03, 169.19],\n",
       "       [164.99, 164.01, 178.79, 156.42]])"
      ]
     },
     "execution_count": 50,
     "metadata": {},
     "output_type": "execute_result"
    }
   ],
   "source": [
    "nums = np.random.normal(loc = 165, scale = 10, size = (3,4)).round(2)\n",
    "nums"
   ]
  },
  {
   "cell_type": "code",
   "execution_count": 53,
   "id": "c09153c8-3a8a-49fe-a2e1-298a6ef1179c",
   "metadata": {},
   "outputs": [
    {
     "name": "stdout",
     "output_type": "stream",
     "text": [
      "shuffle 전:  [0 1 2 3 4 5 6 7 8 9]\n",
      "shuffle 후:  [2 5 0 4 6 3 8 9 1 7]\n"
     ]
    }
   ],
   "source": [
    "# 값 섞기\n",
    "a = np.arange(10)\n",
    "print(\"shuffle 전: \", a)\n",
    "np.random.shuffle(a)\n",
    "print(\"shuffle 후: \", a)"
   ]
  },
  {
   "cell_type": "code",
   "execution_count": 64,
   "id": "7cae941b-2845-49f2-8740-542758624511",
   "metadata": {},
   "outputs": [
    {
     "name": "stdout",
     "output_type": "stream",
     "text": [
      "a 평균:  30.0\n",
      "a 분산:  200.0\n",
      "a 표준편차:  14.142135623730951\n"
     ]
    }
   ],
   "source": [
    "# numpy 평균\n",
    "a = np.array([10, 20, 30, 40, 50])\n",
    "print(\"a 평균: \", a.mean())\n",
    "print(\"a 분산: \", a.var())\n",
    "print(\"a 표준편차: \", a.std())"
   ]
  },
  {
   "cell_type": "code",
   "execution_count": 60,
   "id": "c30a832c-0254-43c6-99fe-7700ee9467f8",
   "metadata": {},
   "outputs": [
    {
     "data": {
      "text/plain": [
       "'\\nQ3\\narr = [[1, 2, 3, 4],\\n       [5, 6, 7, 8],\\n       [9, 10, 11, 12]]\\nQ3-1 : arr의 평균, 분산, 표준편차를 구하시오.\\nQ3-2 : arr의 행의 평균, 분산, 표준편차를 구하시오.\\nQ3-3 : arr의 열의 평균, 분산, 표준편차를 구하시오.\\n'"
      ]
     },
     "execution_count": 60,
     "metadata": {},
     "output_type": "execute_result"
    }
   ],
   "source": [
    "\"\"\"\n",
    "Q3\n",
    "arr = [[1, 2, 3, 4],\n",
    "       [5, 6, 7, 8],\n",
    "       [9, 10, 11, 12]]\n",
    "Q3-1 : arr의 평균, 분산, 표준편차를 구하시오.\n",
    "Q3-2 : arr의 행의 평균, 분산, 표준편차를 구하시오.\n",
    "Q3-3 : arr의 열의 평균, 분산, 표준편차를 구하시오.\n",
    "\"\"\""
   ]
  },
  {
   "cell_type": "code",
   "execution_count": 82,
   "id": "f9f501d4-3b53-445d-a500-d7a19c218590",
   "metadata": {},
   "outputs": [
    {
     "name": "stdout",
     "output_type": "stream",
     "text": [
      "arr의 평균:  6.5\n",
      "arr의 분산:  11.916666666666666\n",
      "arr의 표준편차:  3.452052529534663\n"
     ]
    }
   ],
   "source": [
    "# A3-1 전체\n",
    "arr = np.array([[1, 2, 3, 4],\n",
    "               [5, 6, 7, 8],\n",
    "               [9, 10, 11, 12]])\n",
    "print(\"arr의 평균: \", arr.mean())\n",
    "print(\"arr의 분산: \", arr.var())\n",
    "print(\"arr의 표준편차: \", arr.std())"
   ]
  },
  {
   "cell_type": "code",
   "execution_count": 78,
   "id": "d4016419-34b7-4466-8275-9136b2c6ea6e",
   "metadata": {},
   "outputs": [
    {
     "name": "stdout",
     "output_type": "stream",
     "text": [
      "arr의 행의 평균:  [ 2.5  6.5 10.5]\n",
      "arr의 행의 분산:  [1.25 1.25 1.25]\n",
      "arr의 행의 표준편차:  [1.11803399 1.11803399 1.11803399]\n"
     ]
    }
   ],
   "source": [
    "# A3-2 행\n",
    "arr = np.array([[1, 2, 3, 4],\n",
    "               [5, 6, 7, 8],\n",
    "               [9, 10, 11, 12]])\n",
    "print(\"arr의 행의 평균: \", arr.mean(axis=1))\n",
    "print(\"arr의 행의 분산: \", arr.var(axis=1))\n",
    "print(\"arr의 행의 표준편차: \", arr.std(axis=1))"
   ]
  },
  {
   "cell_type": "code",
   "execution_count": 84,
   "id": "d16c3726-8615-4005-a4ea-d2fb2353386d",
   "metadata": {},
   "outputs": [
    {
     "name": "stdout",
     "output_type": "stream",
     "text": [
      "arr의 열의 평균:  [5. 6. 7. 8.]\n",
      "arr의 열의 분산:  [10.66666667 10.66666667 10.66666667 10.66666667]\n",
      "arr의 열의 표준편차:  [3.26598632 3.26598632 3.26598632 3.26598632]\n"
     ]
    }
   ],
   "source": [
    "# A3-3 열\n",
    "arr = np.array([[1, 2, 3, 4],\n",
    "               [5, 6, 7, 8],\n",
    "               [9, 10, 11, 12]])\n",
    "print(\"arr의 열의 평균: \", arr.mean(axis=0))\n",
    "print(\"arr의 열의 분산: \", arr.var(axis=0))\n",
    "print(\"arr의 열의 표준편차: \", arr.std(axis=0))"
   ]
  }
 ],
 "metadata": {
  "kernelspec": {
   "display_name": "Python 3 (ipykernel)",
   "language": "python",
   "name": "python3"
  },
  "language_info": {
   "codemirror_mode": {
    "name": "ipython",
    "version": 3
   },
   "file_extension": ".py",
   "mimetype": "text/x-python",
   "name": "python",
   "nbconvert_exporter": "python",
   "pygments_lexer": "ipython3",
   "version": "3.12.7"
  }
 },
 "nbformat": 4,
 "nbformat_minor": 5
}
